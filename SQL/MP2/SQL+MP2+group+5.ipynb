{
 "cells": [
  {
   "cell_type": "markdown",
   "id": "d7dfc5c8",
   "metadata": {},
   "source": [
    "<table align=\"left\" width=100%>\n",
    "    <tr><td width=\"20%\">\n",
    "            <img src=\"Great_Learning_Logo.jpeg\">\n",
    "        </td>\n",
    "        <td>\n",
    "            <div align=\"center\">\n",
    "                <font color=\"#21618C\" size=8px>\n",
    "                  <b> Mini Project - CT2 </b>\n",
    "                </font>\n",
    "            </div>\n",
    "        </td>\n",
    "    </tr>\n",
    "</table>"
   ]
  },
  {
   "cell_type": "markdown",
   "id": "83e93dd6",
   "metadata": {},
   "source": [
    "## <font color='green'> Group Number:  CT2 Project Group - 5 (SQL) </font> \n",
    "\n",
    "### Team Members\n",
    "\n",
    "<font color='blue' size=4> 1. Vinod A <br>\n",
    "2. Ramarajan V <br>\n",
    "3. Francis Alexandre Akshay Rajan </font> "
   ]
  },
  {
   "cell_type": "code",
   "execution_count": 1,
   "id": "4c9c376f",
   "metadata": {},
   "outputs": [],
   "source": [
    "# pip install mysql-connector-python"
   ]
  },
  {
   "cell_type": "code",
   "execution_count": 2,
   "id": "f04aff03",
   "metadata": {},
   "outputs": [],
   "source": [
    "import mysql.connector\n",
    "import pandas as pd"
   ]
  },
  {
   "cell_type": "code",
   "execution_count": 3,
   "id": "a25dc297",
   "metadata": {},
   "outputs": [],
   "source": [
    "# to be configured\n",
    "mydb = mysql.connector.connect(\n",
    "  host=\"hostname\", # hostname of the database\n",
    "  user=\"username\", # username of the database\n",
    "  password=\"password\" # password of the database\n",
    ")\n",
    "\n",
    "mycursor = mydb.cursor()"
   ]
  },
  {
   "cell_type": "code",
   "execution_count": 4,
   "id": "dfcbde7e",
   "metadata": {},
   "outputs": [],
   "source": [
    "# database creation\n",
    "mycursor.execute(\"create database buyYourBooks;\")"
   ]
  },
  {
   "cell_type": "code",
   "execution_count": 5,
   "id": "01ff19bb",
   "metadata": {},
   "outputs": [],
   "source": [
    "# to use databse\n",
    "mycursor.execute(\"use buyYourBooks;\")"
   ]
  },
  {
   "cell_type": "code",
   "execution_count": 6,
   "id": "e662b6a9",
   "metadata": {},
   "outputs": [],
   "source": [
    "# Book table creation\n",
    "query = \"Create table Book (Bookid varchar(10) primary key, Bookname varchar(20), Category varchar(20));\"\n",
    "mycursor.execute(query)"
   ]
  },
  {
   "cell_type": "code",
   "execution_count": 7,
   "id": "c26dbfac",
   "metadata": {},
   "outputs": [],
   "source": [
    "# instertion of data in book table\n",
    "\n",
    "query = [\n",
    "    \"Insert into Book values ('B101', 'Science Revolution', 'Journal');\",\n",
    "\"Insert into Book values ('B102', 'Brain Teasers', 'Aptitude');\" ,\n",
    "\"Insert into Book values ('B103', 'India Today', 'Magazine');\" ,\n",
    "\"Insert into Book values ('B104', 'Tech World', 'Journal');\",\n",
    "\"Insert into Book values ('B105', 'Bizz world', 'Magazine');\", \n",
    "\"Insert into Book values ('B106', 'The Quests', 'Aptitude');\"\n",
    "]"
   ]
  },
  {
   "cell_type": "code",
   "execution_count": 8,
   "id": "5fa99dd6",
   "metadata": {},
   "outputs": [],
   "source": [
    "for i in query:\n",
    "    mycursor.execute(i)\n",
    "    mydb.commit()"
   ]
  },
  {
   "cell_type": "code",
   "execution_count": 9,
   "id": "20021ddb",
   "metadata": {},
   "outputs": [
    {
     "data": {
      "text/plain": [
       "[('B101', 'Science Revolution', 'Journal'),\n",
       " ('B102', 'Brain Teasers', 'Aptitude'),\n",
       " ('B103', 'India Today', 'Magazine'),\n",
       " ('B104', 'Tech World', 'Journal'),\n",
       " ('B105', 'Bizz world', 'Magazine'),\n",
       " ('B106', 'The Quests', 'Aptitude')]"
      ]
     },
     "execution_count": 9,
     "metadata": {},
     "output_type": "execute_result"
    }
   ],
   "source": [
    "mycursor.execute(\"select * from book;\")\n",
    "mycursor.fetchall()"
   ]
  },
  {
   "cell_type": "code",
   "execution_count": 10,
   "id": "69666644",
   "metadata": {},
   "outputs": [],
   "source": [
    "# Customer table creation\n",
    "query = \"create table customer(custid varchar(10) primary key,custname varchar(20));\"\n",
    "mycursor.execute(query)"
   ]
  },
  {
   "cell_type": "code",
   "execution_count": 11,
   "id": "6bef0d69",
   "metadata": {},
   "outputs": [],
   "source": [
    "# instertion of data in customer table\n",
    "\n",
    "query = [\n",
    "    \"Insert into customer values('C101', 'Jack'); \",\n",
    "\"Insert into customer values('C102', 'Anne'); \",\n",
    "\"Insert into customer values('C103', 'Jane'); \",\n",
    "\"Insert into customer values('C104', 'Maria');\",\n",
    "]"
   ]
  },
  {
   "cell_type": "code",
   "execution_count": 12,
   "id": "062b7d1b",
   "metadata": {},
   "outputs": [],
   "source": [
    "for i in query:\n",
    "    mycursor.execute(i)\n",
    "    mydb.commit()"
   ]
  },
  {
   "cell_type": "code",
   "execution_count": 13,
   "id": "832d592a",
   "metadata": {},
   "outputs": [
    {
     "data": {
      "text/plain": [
       "[('C101', 'Jack'), ('C102', 'Anne'), ('C103', 'Jane'), ('C104', 'Maria')]"
      ]
     },
     "execution_count": 13,
     "metadata": {},
     "output_type": "execute_result"
    }
   ],
   "source": [
    "mycursor.execute(\"select * from customer;\")\n",
    "mycursor.fetchall()"
   ]
  },
  {
   "cell_type": "code",
   "execution_count": 14,
   "id": "8a66e9a1",
   "metadata": {},
   "outputs": [],
   "source": [
    "# Purchase table creation\n",
    "query = \"create table purchase(purchaseid varchar(10) primary key,custid varchar(10) references customer(custid),bookid varchar(10) references book(bookid),purchasedate date );\"\n",
    "mycursor.execute(query)"
   ]
  },
  {
   "cell_type": "code",
   "execution_count": 15,
   "id": "5845dd3b",
   "metadata": {},
   "outputs": [],
   "source": [
    "# instertion of data in purchase table\n",
    "\n",
    "query = [\n",
    "    \"Insert into purchase values ('P201','C101', 'B102','2019-12-12');\",\n",
    "\"Insert into purchase values ('P202','C102','B103','2019-11-25');\",\n",
    "\"Insert into purchase values ('P203','C103', 'B104','2019-12-12');\",\n",
    "\"Insert into purchase values ('P204','C104', 'B105','2019-11-25');\",\n",
    "\"Insert into purchase values ('P205','C101', 'B101','2019-12-11');\",\n",
    "\"Insert into purchase values ('P206','C101', 'B106','2019-12-12');\",\n",
    "]"
   ]
  },
  {
   "cell_type": "code",
   "execution_count": 16,
   "id": "88eecf9c",
   "metadata": {},
   "outputs": [],
   "source": [
    "for i in query:\n",
    "    mycursor.execute(i)\n",
    "    mydb.commit()"
   ]
  },
  {
   "cell_type": "code",
   "execution_count": 17,
   "id": "c97e25a3",
   "metadata": {},
   "outputs": [
    {
     "data": {
      "text/plain": [
       "[('P201', 'C101', 'B102', datetime.date(2019, 12, 12)),\n",
       " ('P202', 'C102', 'B103', datetime.date(2019, 11, 25)),\n",
       " ('P203', 'C103', 'B104', datetime.date(2019, 12, 12)),\n",
       " ('P204', 'C104', 'B105', datetime.date(2019, 11, 25)),\n",
       " ('P205', 'C101', 'B101', datetime.date(2019, 12, 11)),\n",
       " ('P206', 'C101', 'B106', datetime.date(2019, 12, 12))]"
      ]
     },
     "execution_count": 17,
     "metadata": {},
     "output_type": "execute_result"
    }
   ],
   "source": [
    "mycursor.execute(\"select * from purchase;\")\n",
    "mycursor.fetchall()"
   ]
  },
  {
   "cell_type": "markdown",
   "id": "a5a784a2",
   "metadata": {},
   "source": [
    "<br>\n",
    "<br>\n",
    "<font size=4>\n",
    "    <b>Requirement 1 :</b>\n",
    "</font>\n",
    "<font size=3>\n",
    "Identify the purchase details of books, that are purchased exactly on different dates by the same customer(s). Write a query to display customer’s id and number of such purchases to be displayed as BOOKS for the identified purchase details.</font>"
   ]
  },
  {
   "cell_type": "code",
   "execution_count": 18,
   "id": "eaac46ca",
   "metadata": {},
   "outputs": [],
   "source": [
    "query1 = \"\"\"select custid, count(distinct purchasedate) AS num_of_books\n",
    "from purchase\n",
    "group by custid\n",
    "having count(distinct purchasedate) > 1;\"\"\""
   ]
  },
  {
   "cell_type": "code",
   "execution_count": 19,
   "id": "a7943ffd",
   "metadata": {},
   "outputs": [
    {
     "data": {
      "text/html": [
       "<div>\n",
       "<style scoped>\n",
       "    .dataframe tbody tr th:only-of-type {\n",
       "        vertical-align: middle;\n",
       "    }\n",
       "\n",
       "    .dataframe tbody tr th {\n",
       "        vertical-align: top;\n",
       "    }\n",
       "\n",
       "    .dataframe thead th {\n",
       "        text-align: right;\n",
       "    }\n",
       "</style>\n",
       "<table border=\"1\" class=\"dataframe\">\n",
       "  <thead>\n",
       "    <tr style=\"text-align: right;\">\n",
       "      <th></th>\n",
       "      <th>Customer ID</th>\n",
       "      <th>Number of books</th>\n",
       "    </tr>\n",
       "  </thead>\n",
       "  <tbody>\n",
       "    <tr>\n",
       "      <th>0</th>\n",
       "      <td>C101</td>\n",
       "      <td>2</td>\n",
       "    </tr>\n",
       "  </tbody>\n",
       "</table>\n",
       "</div>"
      ],
      "text/plain": [
       "  Customer ID  Number of books\n",
       "0        C101                2"
      ]
     },
     "execution_count": 19,
     "metadata": {},
     "output_type": "execute_result"
    }
   ],
   "source": [
    "mycursor.execute(query1)\n",
    "pd.DataFrame(mycursor.fetchall(), columns=['Customer ID', 'Number of books'])"
   ]
  },
  {
   "cell_type": "markdown",
   "id": "bf0b9a99",
   "metadata": {},
   "source": [
    "<br>\n",
    "<br>\n",
    "<font size=4>\n",
    "    <b>Requirement 2 :</b>\n",
    "</font>\n",
    "<font size=3>\n",
    "Identify the purchase details of books, where the books of the same category are purchased by different customers on different dates. Write a query to display customer’s id and title of the book for the identified purchase details.\n",
    "</font>"
   ]
  },
  {
   "cell_type": "code",
   "execution_count": 20,
   "id": "7fd91c9e",
   "metadata": {},
   "outputs": [],
   "source": [
    "query2 = \"\"\"select p.custid, b.Bookname\n",
    "from purchase p\n",
    "join customer c on p.custid = c.custid\n",
    "join Book b on p.Bookid = b.Bookid\n",
    "where b.Category in (\n",
    "    select b1.Category\n",
    "    from Book b1\n",
    "    join purchase p1 on b1.Bookid = p1.Bookid\n",
    "    group by b1.Category\n",
    "    having count(distinct p1.custid) > 1 and count(distinct p1.purchasedate) > 1\n",
    ")\n",
    "order by p.custid;\"\"\""
   ]
  },
  {
   "cell_type": "code",
   "execution_count": 21,
   "id": "3502ea7a",
   "metadata": {},
   "outputs": [
    {
     "data": {
      "text/html": [
       "<div>\n",
       "<style scoped>\n",
       "    .dataframe tbody tr th:only-of-type {\n",
       "        vertical-align: middle;\n",
       "    }\n",
       "\n",
       "    .dataframe tbody tr th {\n",
       "        vertical-align: top;\n",
       "    }\n",
       "\n",
       "    .dataframe thead th {\n",
       "        text-align: right;\n",
       "    }\n",
       "</style>\n",
       "<table border=\"1\" class=\"dataframe\">\n",
       "  <thead>\n",
       "    <tr style=\"text-align: right;\">\n",
       "      <th></th>\n",
       "      <th>Customer ID</th>\n",
       "      <th>Title of the book</th>\n",
       "    </tr>\n",
       "  </thead>\n",
       "  <tbody>\n",
       "    <tr>\n",
       "      <th>0</th>\n",
       "      <td>C101</td>\n",
       "      <td>Science Revolution</td>\n",
       "    </tr>\n",
       "    <tr>\n",
       "      <th>1</th>\n",
       "      <td>C103</td>\n",
       "      <td>Tech World</td>\n",
       "    </tr>\n",
       "  </tbody>\n",
       "</table>\n",
       "</div>"
      ],
      "text/plain": [
       "  Customer ID   Title of the book\n",
       "0        C101  Science Revolution\n",
       "1        C103          Tech World"
      ]
     },
     "execution_count": 21,
     "metadata": {},
     "output_type": "execute_result"
    }
   ],
   "source": [
    "mycursor.execute(query2)\n",
    "pd.DataFrame(mycursor.fetchall(), columns=['Customer ID', 'Title of the book'])"
   ]
  },
  {
   "cell_type": "markdown",
   "id": "c9a770db",
   "metadata": {},
   "source": [
    "<br>\n",
    "<br>\n",
    "<font size=4>\n",
    "    <b>Requirement 3 :</b>\n",
    "</font>\n",
    "<font size=3>\n",
    "Identify the purchase details of books, where the book is purchased on the same date, exactly on the date Anne has purchased the book. Write a query to display customer’s name and title of the book for the identified purchase details. Do NOT display details of Anne in the query result.</font>"
   ]
  },
  {
   "cell_type": "code",
   "execution_count": 22,
   "id": "f7c14751",
   "metadata": {},
   "outputs": [],
   "source": [
    "query3 = \"\"\"select c.custname, b.Bookname\n",
    "from customer c\n",
    "join purchase p on c.custid = p.custid\n",
    "join Book b on p.Bookid = b.Bookid\n",
    "where p.purchasedate = (\n",
    "    select purchasedate\n",
    "    from purchase\n",
    "    where custid = (\n",
    "        select custid\n",
    "        from customer\n",
    "        where custname = 'Anne'\n",
    "    )\n",
    ")\n",
    "and c.custname != 'Anne';\"\"\""
   ]
  },
  {
   "cell_type": "code",
   "execution_count": 23,
   "id": "8c6ea4fe",
   "metadata": {},
   "outputs": [
    {
     "data": {
      "text/html": [
       "<div>\n",
       "<style scoped>\n",
       "    .dataframe tbody tr th:only-of-type {\n",
       "        vertical-align: middle;\n",
       "    }\n",
       "\n",
       "    .dataframe tbody tr th {\n",
       "        vertical-align: top;\n",
       "    }\n",
       "\n",
       "    .dataframe thead th {\n",
       "        text-align: right;\n",
       "    }\n",
       "</style>\n",
       "<table border=\"1\" class=\"dataframe\">\n",
       "  <thead>\n",
       "    <tr style=\"text-align: right;\">\n",
       "      <th></th>\n",
       "      <th>Customer Name</th>\n",
       "      <th>Title of the book</th>\n",
       "    </tr>\n",
       "  </thead>\n",
       "  <tbody>\n",
       "    <tr>\n",
       "      <th>0</th>\n",
       "      <td>Maria</td>\n",
       "      <td>Bizz world</td>\n",
       "    </tr>\n",
       "  </tbody>\n",
       "</table>\n",
       "</div>"
      ],
      "text/plain": [
       "  Customer Name Title of the book\n",
       "0         Maria        Bizz world"
      ]
     },
     "execution_count": 23,
     "metadata": {},
     "output_type": "execute_result"
    }
   ],
   "source": [
    "mycursor.execute(query3)\n",
    "pd.DataFrame(mycursor.fetchall(), columns=['Customer Name', 'Title of the book'])"
   ]
  },
  {
   "cell_type": "code",
   "execution_count": 24,
   "id": "de2ce91b",
   "metadata": {},
   "outputs": [],
   "source": [
    "mydb.close()"
   ]
  }
 ],
 "metadata": {
  "kernelspec": {
   "display_name": "Python 3 (ipykernel)",
   "language": "python",
   "name": "python3"
  },
  "language_info": {
   "codemirror_mode": {
    "name": "ipython",
    "version": 3
   },
   "file_extension": ".py",
   "mimetype": "text/x-python",
   "name": "python",
   "nbconvert_exporter": "python",
   "pygments_lexer": "ipython3",
   "version": "3.9.13"
  }
 },
 "nbformat": 4,
 "nbformat_minor": 5
}
