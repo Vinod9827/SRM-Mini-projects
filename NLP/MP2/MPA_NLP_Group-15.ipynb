{
 "cells": [
  {
   "cell_type": "markdown",
   "metadata": {
    "id": "l_XZDQ3KKjNW"
   },
   "source": [
    "# **Mini Project Assignment -II**"
   ]
  },
  {
   "cell_type": "markdown",
   "metadata": {
    "id": "3YN_dSJMK1ha"
   },
   "source": [
    "Total Marks: 30\n",
    "\n",
    "URL for Ecommerce Site:\n",
    "https://www.flipkart.com/"
   ]
  },
  {
   "cell_type": "markdown",
   "metadata": {
    "id": "rS5GpBkYLWi6"
   },
   "source": [
    "1. Import Libraries (2 Marks)"
   ]
  },
  {
   "cell_type": "code",
   "execution_count": 1,
   "metadata": {
    "id": "s70CcxPiLcxp",
    "tags": []
   },
   "outputs": [
    {
     "name": "stderr",
     "output_type": "stream",
     "text": [
      "C:\\Users\\vssha\\anaconda3\\lib\\site-packages\\scipy\\__init__.py:155: UserWarning: A NumPy version >=1.18.5 and <1.25.0 is required for this version of SciPy (detected version 1.25.2\n",
      "  warnings.warn(f\"A NumPy version >={np_minversion} and <{np_maxversion}\"\n"
     ]
    }
   ],
   "source": [
    "# Standard library imports\n",
    "import concurrent.futures\n",
    "import os  # Operating system dependent functionality\n",
    "import time  # Time-related functions\n",
    "import warnings  # Suppressing warnings\n",
    "import re  # Regular expression operations\n",
    "import string  # Common string operations\n",
    "\n",
    "# Data processing and analysis imports\n",
    "import pandas as pd  # Data manipulation and analysis\n",
    "import numpy as np  # Numerical operations\n",
    "from sklearn.model_selection import train_test_split  # Split arrays or matrices into random train and test subsets\n",
    "from sklearn.preprocessing import StandardScaler  # Standardize features\n",
    "from sklearn.feature_extraction.text import CountVectorizer  # Convert text to vector\n",
    "\n",
    "# Natural Language Processing (NLP) imports\n",
    "import nltk  # Natural language toolkit\n",
    "from nltk.corpus import stopwords, wordnet  # Stopwords and wordnet corpus\n",
    "from nltk.stem import WordNetLemmatizer  # Lemmatizing words\n",
    "from nltk.tokenize import word_tokenize  # Tokenizing strings\n",
    "\n",
    "# Neural network and deep learning imports\n",
    "import tensorflow as tf  # Deep learning library\n",
    "from tensorflow.keras.models import Sequential  # Linear stack of layers\n",
    "from tensorflow.keras.layers import Embedding, LSTM, Dense, Dropout,Bidirectional  # Various neural network layers\n",
    "from tensorflow.keras.preprocessing.text import Tokenizer  # Text tokenization utility\n",
    "from tensorflow.keras.preprocessing.sequence import pad_sequences  # Sequence padding utility\n",
    "from tensorflow.keras.callbacks import EarlyStopping, ModelCheckpoint, TensorBoard  # Callback to stop training when a monitored metric has stopped improving\n",
    "from tensorflow.keras import optimizers\n",
    "from tensorflow.keras.callbacks import ReduceLROnPlateau\n",
    "\n",
    "# Web scraping imports\n",
    "import requests  # HTTP requests\n",
    "from bs4 import BeautifulSoup  # HTML and XML parsing\n",
    "from selenium import webdriver  # Browser automation\n",
    "from selenium.webdriver.common.by import By  # Used to locate elements on a web page\n",
    "from selenium.webdriver.chrome.options import Options  # Chrome webdriver options\n",
    "from selenium.webdriver.chrome.service import Service  # Chrome browser service\n",
    "\n",
    "# Utility imports\n",
    "from pprint import pprint  # Pretty-printing data structures\n",
    "from tqdm import tqdm  # Progress bar\n",
    "\n",
    "# Suppressing warnings for cleaner output\n",
    "warnings.simplefilter(\"ignore\")"
   ]
  },
  {
   "cell_type": "markdown",
   "metadata": {
    "id": "fOJxZsl1Ldib"
   },
   "source": [
    "### 2. Use the above URL to scrape product links from product listing pages (3 Marks)"
   ]
  },
  {
   "cell_type": "code",
   "execution_count": 2,
   "metadata": {
    "id": "lFzHKYcyL3g8",
    "tags": []
   },
   "outputs": [
    {
     "name": "stdout",
     "output_type": "stream",
     "text": [
      "Total links fetched: 480\n"
     ]
    }
   ],
   "source": [
    "# Setting Chrome options for headless browsing\n",
    "options = Options()\n",
    "options.add_argument(\"--headless\")\n",
    "options.add_argument(\n",
    "    \"--disable-gpu\"\n",
    ")  # This option is often recommended for headless running\n",
    "options.add_experimental_option(\"extensionLoadTimeout\", 60000)\n",
    "# Creating the Chrome WebDriver with the specified options\n",
    "driver = webdriver.Chrome(options=options)\n",
    "\n",
    "# Initializing a list to store the fetched product links\n",
    "all_links = []\n",
    "\n",
    "# Base URL for the search page on Flipkart (can be modified for different search queries)\n",
    "base_url = \"https://www.flipkart.com/search?q=laptop&page=\"\n",
    "\n",
    "# Looping through the first 10 pages of the search results\n",
    "for page in range(1, 21):\n",
    "    # Constructing the URL for the current page by appending the page number\n",
    "    url = base_url + str(page)\n",
    "\n",
    "    # Opening the URL in the browser\n",
    "    driver.get(url)\n",
    "\n",
    "    # Waiting for a short period to ensure the page loads completely\n",
    "    time.sleep(1)\n",
    "\n",
    "    # Finding all product links on the page using CSS selector (modify selector as needed)\n",
    "    product_links = driver.find_elements(By.CSS_SELECTOR, \"a._1fQZEK\")\n",
    "    # Extracting the 'href' attribute from each link element\n",
    "    links = [link.get_attribute(\"href\") for link in product_links]\n",
    "\n",
    "    # Adding the fetched links from the current page to the all_links list\n",
    "    all_links.extend(links)\n",
    "\n",
    "# Closing the browser after fetching all links\n",
    "driver.quit()\n",
    "\n",
    "# Printing the total number of product links fetched\n",
    "print(f\"Total links fetched: {len(all_links)}\")\n",
    "\n",
    "# Processing each link to create a list of dictionaries containing product and review links\n",
    "processed_links = [\n",
    "    {\n",
    "        \"product_link\": link.split(\"?\")[0],  # Extracting the base product link\n",
    "        \"review_link\": link.split(\"?\")[0].replace(\n",
    "            \"/p/\", \"/product-reviews/\"\n",
    "        ),  # Creating a link to the product reviews\n",
    "    }\n",
    "    for link in all_links\n",
    "]"
   ]
  },
  {
   "cell_type": "code",
   "execution_count": 3,
   "metadata": {
    "id": "lFzHKYcyL3g8",
    "tags": []
   },
   "outputs": [
    {
     "name": "stdout",
     "output_type": "stream",
     "text": [
      "[{'product_link': 'https://www.flipkart.com/hp-celeron-dual-core-n4500-4-gb-128-gb-emmc-storage-chrome-os-15a-na0012tu-chromebook/p/itm7d20974c3dfce',\n",
      "  'review_link': 'https://www.flipkart.com/hp-celeron-dual-core-n4500-4-gb-128-gb-emmc-storage-chrome-os-15a-na0012tu-chromebook/product-reviews/itm7d20974c3dfce'},\n",
      " {'product_link': 'https://www.flipkart.com/hp-intel-celeron-dual-core-n4500-4-gb-64-gb-emmc-storage-chrome-os-14a-na1004tu-chromebook/p/itm4489ddf90925c',\n",
      "  'review_link': 'https://www.flipkart.com/hp-intel-celeron-dual-core-n4500-4-gb-64-gb-emmc-storage-chrome-os-14a-na1004tu-chromebook/product-reviews/itm4489ddf90925c'},\n",
      " {'product_link': 'https://www.flipkart.com/hp-2023-athlon-dual-core-3050u-8-gb-512-gb-ssd-windows-11-home-15s-ey1509au-thin-light-laptop/p/itm930fe4c90a2f8',\n",
      "  'review_link': 'https://www.flipkart.com/hp-2023-athlon-dual-core-3050u-8-gb-512-gb-ssd-windows-11-home-15s-ey1509au-thin-light-laptop/product-reviews/itm930fe4c90a2f8'},\n",
      " {'product_link': 'https://www.flipkart.com/acer-one-core-i3-11th-gen-1115g4-8-gb-512-gb-ssd-windows-11-home-ao-14-z-8-415-thin-light-laptop/p/itm34f24cbac6f26',\n",
      "  'review_link': 'https://www.flipkart.com/acer-one-core-i3-11th-gen-1115g4-8-gb-512-gb-ssd-windows-11-home-ao-14-z-8-415-thin-light-laptop/product-reviews/itm34f24cbac6f26'},\n",
      " {'product_link': 'https://www.flipkart.com/lenovo-ideapad-1-athlon-dual-core-7120u-8-gb-512-gb-ssd-windows-11-home-15amn7-thin-light-laptop/p/itm920ecb24fc5b6',\n",
      "  'review_link': 'https://www.flipkart.com/lenovo-ideapad-1-athlon-dual-core-7120u-8-gb-512-gb-ssd-windows-11-home-15amn7-thin-light-laptop/product-reviews/itm920ecb24fc5b6'}]\n"
     ]
    }
   ],
   "source": [
    "# Pretty print processed links\n",
    "pprint(processed_links[:5])"
   ]
  },
  {
   "cell_type": "markdown",
   "metadata": {
    "id": "w9UklzGDL5-D"
   },
   "source": [
    "3. Scraping of \"laptop\" data from individual product pages (5 Marks)"
   ]
  },
  {
   "cell_type": "code",
   "execution_count": 4,
   "metadata": {
    "tags": []
   },
   "outputs": [
    {
     "name": "stderr",
     "output_type": "stream",
     "text": [
      "Scraping Progress: 100%|█████████████████████████████████████████████████████████████| 480/480 [20:17<00:00,  2.54s/it]\n"
     ]
    }
   ],
   "source": [
    "def scrape_data(link):\n",
    "    with webdriver.Chrome(options=options) as driver:\n",
    "        # Navigate to the product page\n",
    "        driver.get(link[\"product_link\"])\n",
    "        time.sleep(2)  # Pause to allow the page to load, adjust timing as necessary\n",
    "\n",
    "        # Retrieve and parse the HTML content of the product page\n",
    "        html_content = driver.page_source\n",
    "        soup = BeautifulSoup(html_content, \"html.parser\")\n",
    "\n",
    "        # Extract the product title, use a default value if not found\n",
    "        title = (\n",
    "            soup.select_one(\"span.B_NuCI\").get_text(strip=True)\n",
    "            if soup.select_one(\"span.B_NuCI\")\n",
    "            else \"N/A\"\n",
    "        )\n",
    "\n",
    "        # Extract the product price, use a default value if not found\n",
    "        price = (\n",
    "            soup.select_one(\"div._30jeq3\").get_text(strip=True)\n",
    "            if soup.select_one(\"div._30jeq3\")\n",
    "            else \"N/A\"\n",
    "        )\n",
    "\n",
    "        # Extract the model name from the product details\n",
    "        model_name_td = soup.find(\"td\", text=\"Model Name\")\n",
    "        model_name = (\n",
    "            model_name_td.find_next_sibling(\"td\").text.strip()\n",
    "            if model_name_td and model_name_td.find_next_sibling(\"td\")\n",
    "            else \"N/A\"\n",
    "        )\n",
    "\n",
    "        # Extract the product type from the product details\n",
    "        type_td = soup.find(\"td\", text=\"Type\")\n",
    "        type_info = (\n",
    "            type_td.find_next_sibling(\"td\").text.strip()\n",
    "            if type_td and type_td.find_next_sibling(\"td\")\n",
    "            else \"N/A\"\n",
    "        )\n",
    "\n",
    "        # Extract the product's star rating, use a default value if not found\n",
    "        star_rating = (\n",
    "            soup.select_one(\"div._2d4LTz\").get_text(strip=True)\n",
    "            if soup.select_one(\"div._2d4LTz\")\n",
    "            else \"N/A\"\n",
    "        )\n",
    "\n",
    "        # Navigate to the review page for the product\n",
    "        driver.get(link[\"review_link\"])\n",
    "        time.sleep(\n",
    "            2\n",
    "        )  # Pause to allow the review page to load, adjust timing as necessary\n",
    "\n",
    "        # Retrieve and parse the HTML content of the review page\n",
    "        review_html_content = driver.page_source\n",
    "        review_soup = BeautifulSoup(review_html_content, \"html.parser\")\n",
    "\n",
    "        # Extract product reviews\n",
    "        reviews = []\n",
    "        review_elements = review_soup.select(\n",
    "            \"div.t-ZTKy\"\n",
    "        )  # Selector for review container\n",
    "        for review_element in review_elements:\n",
    "            review_text = review_element.get_text(strip=True)\n",
    "            reviews.append(review_text)\n",
    "\n",
    "        # Store the extracted product data including reviews\n",
    "        return {\n",
    "            \"title\": title,\n",
    "            \"price\": price,\n",
    "            \"model\": model_name,\n",
    "            \"type\": type_info,\n",
    "            \"star_rating\": star_rating,\n",
    "            \"reviews\": reviews,\n",
    "        }\n",
    "\n",
    "\n",
    "# Initialize a list to store the fetched product data\n",
    "product_data = []\n",
    "\n",
    "# Using ThreadPoolExecutor for parallel processing\n",
    "with concurrent.futures.ThreadPoolExecutor(\n",
    "    max_workers=12\n",
    ") as executor:  # Adjust max_workers as needed\n",
    "    # Map the function and links to the executor\n",
    "    future_to_link = {\n",
    "        executor.submit(scrape_data, link): link for link in processed_links\n",
    "    }\n",
    "\n",
    "    # Process the results as they are completed with a progress bar\n",
    "    for future in tqdm(\n",
    "        concurrent.futures.as_completed(future_to_link),\n",
    "        total=len(processed_links),\n",
    "        desc=\"Scraping Progress\",\n",
    "    ):\n",
    "        product_data.append(future.result())"
   ]
  },
  {
   "cell_type": "code",
   "execution_count": 5,
   "metadata": {
    "tags": []
   },
   "outputs": [
    {
     "name": "stdout",
     "output_type": "stream",
     "text": [
      "[{'model': 'N/A',\n",
      "  'price': 'N/A',\n",
      "  'reviews': [],\n",
      "  'star_rating': 'N/A',\n",
      "  'title': 'N/A',\n",
      "  'type': 'N/A'},\n",
      " {'model': 'UM5401QA-KM541WS',\n",
      "  'price': '₹57,990',\n",
      "  'reviews': ['Zen book is a premium series of asus, this laptop provides an '\n",
      "              'immersive experience and the audio is also pretty good, but '\n",
      "              'tune in has to be done!Above average performance (not for '\n",
      "              'gaming)Built quality is top notchThe Trump Card of the laptop '\n",
      "              'is the display, you will get a chance to see the same display '\n",
      "              \"that is available in 1l and above TV'sSo this is a great laptop \"\n",
      "              'for entertainment and education purposes.READ MORE',\n",
      "              'Excellent if you can get it around 50k. It would have been '\n",
      "              \"awesome if it had 2022 processor and DDR5 RAM but it's still \"\n",
      "              \"very capable. Display is the best I've ever seen. Gets quite \"\n",
      "              'bright. Speakers are also preety good. Could be louder. '\n",
      "              'Keyboard is good. Fingerprint is instant. Design is really '\n",
      "              'cool. Metalic look is cool. Ports are excellent. It has all '\n",
      "              'stuff you need. There is just type a port though but it has two '\n",
      "              'type c ports that support charging. Touchpad is also very good. '\n",
      "              'Love the nump...READ MORE',\n",
      "              \"THE GOOD:(i) The build quality is absolutely phenomenal. It's \"\n",
      "              'built like a tank and looks absolutely stunning.(ii) The high '\n",
      "              \"refresh rate AMOLED display *chef's kiss*.(iii) The included \"\n",
      "              'Zenbook Sleeve is beautiful and offers ample protection.THE '\n",
      "              'AVERAGE:(i) Trackpad is not good enough. The click is not '\n",
      "              'satisfying enough.(ii) Performance is average. You can get by '\n",
      "              \"doing basic tasks, but this is not the best choice if you're \"\n",
      "              'looking for a productivity laptop. It also suffers from '\n",
      "              'havin...READ MORE',\n",
      "              'Product is so good ( bole to paisa wasool)... 😊READ MORE',\n",
      "              'Lovely product.would defenitely recommend this for intermediate '\n",
      "              'usage.very light and high performing.the display is '\n",
      "              'phenomenalREAD MORE',\n",
      "              'Display is the best. Laptop speakers could be betterREAD MORE',\n",
      "              'Just a good simple great screen laptop which looks premium and '\n",
      "              'lightweight easy to travel with and does get your work done '\n",
      "              '.READ MORE',\n",
      "              \"Great OLED Screen in this price range - you won't want to look \"\n",
      "              'at any other screen.I purchased this for 50k however it was '\n",
      "              'available for an amount of 48k with bank offers. You can get an '\n",
      "              'additional international warranty for a year at just 2k. Asus '\n",
      "              'provides a discount coupon in the box for the additional '\n",
      "              \"warranty.The processor is good, but there isn't any dedicated \"\n",
      "              'graphic card and the audio quality is poor - the audio quality '\n",
      "              \"must be improved in the next update, it's really bad.It \"\n",
      "              'w...READ MORE',\n",
      "              \"Got it for 47k and it's absolutely beast for the price. Love \"\n",
      "              'the OLED panel and the trackpad. Performance is excellent and '\n",
      "              'battery life is also very good.READ MORE',\n",
      "              'Best laptop under 60k.Speaker issue can be solved using dts app '\n",
      "              '(pre-installed) select custom audio and enable all the '\n",
      "              'enhancements.p.s- not ideal for gaming in this price rangeREAD '\n",
      "              'MORE'],\n",
      "  'star_rating': '4.4',\n",
      "  'title': 'ASUS Zenbook 14X OLED Ryzen 5 Hexa Core 5600HS - (16 GB/512 GB '\n",
      "           'SSD/Windows 11 Home) UM5401QA-KM541WS Thin and Light Laptop\\xa0\\xa0'\n",
      "           '(14 Inch, Jade Black, 1.40 kg, With MS Office)',\n",
      "  'type': 'Thin and Light Laptop'}]\n"
     ]
    }
   ],
   "source": [
    "# Pretty print a sample of  product data\n",
    "pprint(product_data[:2])"
   ]
  },
  {
   "cell_type": "markdown",
   "metadata": {
    "id": "crF5hEf1MD6f"
   },
   "source": [
    "4. Construct csv file which includes following information and name it as product.CSV (5 Marks)\n",
    "                  a. Product title\n",
    "                  b. Price\n",
    "                  c. Model\n",
    "                  d. Star rating including comments"
   ]
  },
  {
   "cell_type": "code",
   "execution_count": 6,
   "metadata": {
    "tags": []
   },
   "outputs": [
    {
     "data": {
      "text/html": [
       "<div>\n",
       "<style scoped>\n",
       "    .dataframe tbody tr th:only-of-type {\n",
       "        vertical-align: middle;\n",
       "    }\n",
       "\n",
       "    .dataframe tbody tr th {\n",
       "        vertical-align: top;\n",
       "    }\n",
       "\n",
       "    .dataframe thead th {\n",
       "        text-align: right;\n",
       "    }\n",
       "</style>\n",
       "<table border=\"1\" class=\"dataframe\">\n",
       "  <thead>\n",
       "    <tr style=\"text-align: right;\">\n",
       "      <th></th>\n",
       "      <th>title</th>\n",
       "      <th>price</th>\n",
       "      <th>model</th>\n",
       "      <th>type</th>\n",
       "      <th>star_rating</th>\n",
       "      <th>reviews</th>\n",
       "    </tr>\n",
       "  </thead>\n",
       "  <tbody>\n",
       "    <tr>\n",
       "      <th>398</th>\n",
       "      <td>MSI GF63 Core i7 11th Gen 11800H - (16 GB/1 TB...</td>\n",
       "      <td>₹65,990</td>\n",
       "      <td>GF63 Thin 11UC-1294IN</td>\n",
       "      <td>Gaming Laptop</td>\n",
       "      <td>4.3</td>\n",
       "      <td>best product, gtav at high and very high setti...</td>\n",
       "    </tr>\n",
       "    <tr>\n",
       "      <th>1767</th>\n",
       "      <td>HP Celeron Dual Core N4500 - (4 GB/128 GB EMMC...</td>\n",
       "      <td>₹27,490</td>\n",
       "      <td>15a- na0008TU</td>\n",
       "      <td>Chromebook</td>\n",
       "      <td>3.9</td>\n",
       "      <td>Hey everyoneAfter reading all reviews I have p...</td>\n",
       "    </tr>\n",
       "    <tr>\n",
       "      <th>2102</th>\n",
       "      <td>SAMSUNG Galaxy Book3 Core i5 13th Gen 1335U - ...</td>\n",
       "      <td>₹79,990</td>\n",
       "      <td>N/A</td>\n",
       "      <td>Thin and Light Laptop</td>\n",
       "      <td>4.3</td>\n",
       "      <td>Display is not LED good. I use it for office w...</td>\n",
       "    </tr>\n",
       "    <tr>\n",
       "      <th>2509</th>\n",
       "      <td>Acer Predator (2023) Core i9 13th Gen 13900HX ...</td>\n",
       "      <td>₹2,49,990</td>\n",
       "      <td>PH16-71</td>\n",
       "      <td>Gaming Laptop</td>\n",
       "      <td>N/A</td>\n",
       "      <td>NaN</td>\n",
       "    </tr>\n",
       "    <tr>\n",
       "      <th>1061</th>\n",
       "      <td>Lenovo IdeaPad 3 Intel Core i5 12th Gen 12450H...</td>\n",
       "      <td>₹67,990</td>\n",
       "      <td>15IAH7</td>\n",
       "      <td>Gaming Laptop</td>\n",
       "      <td>4.3</td>\n",
       "      <td>Worth for the price, does the job quite wellTh...</td>\n",
       "    </tr>\n",
       "  </tbody>\n",
       "</table>\n",
       "</div>"
      ],
      "text/plain": [
       "                                                  title      price  \\\n",
       "398   MSI GF63 Core i7 11th Gen 11800H - (16 GB/1 TB...    ₹65,990   \n",
       "1767  HP Celeron Dual Core N4500 - (4 GB/128 GB EMMC...    ₹27,490   \n",
       "2102  SAMSUNG Galaxy Book3 Core i5 13th Gen 1335U - ...    ₹79,990   \n",
       "2509  Acer Predator (2023) Core i9 13th Gen 13900HX ...  ₹2,49,990   \n",
       "1061  Lenovo IdeaPad 3 Intel Core i5 12th Gen 12450H...    ₹67,990   \n",
       "\n",
       "                      model                   type star_rating  \\\n",
       "398   GF63 Thin 11UC-1294IN          Gaming Laptop         4.3   \n",
       "1767          15a- na0008TU             Chromebook         3.9   \n",
       "2102                    N/A  Thin and Light Laptop         4.3   \n",
       "2509                PH16-71          Gaming Laptop         N/A   \n",
       "1061                 15IAH7          Gaming Laptop         4.3   \n",
       "\n",
       "                                                reviews  \n",
       "398   best product, gtav at high and very high setti...  \n",
       "1767  Hey everyoneAfter reading all reviews I have p...  \n",
       "2102  Display is not LED good. I use it for office w...  \n",
       "2509                                                NaN  \n",
       "1061  Worth for the price, does the job quite wellTh...  "
      ]
     },
     "execution_count": 6,
     "metadata": {},
     "output_type": "execute_result"
    }
   ],
   "source": [
    "df = pd.DataFrame(product_data)\n",
    "df = df.explode(\"reviews\")\n",
    "df.reset_index(drop=True, inplace=True)\n",
    "df.sample(5)"
   ]
  },
  {
   "cell_type": "code",
   "execution_count": 7,
   "metadata": {
    "tags": []
   },
   "outputs": [],
   "source": [
    "# Output\n",
    "df.to_csv(\"product.csv\", index=False)"
   ]
  },
  {
   "cell_type": "markdown",
   "metadata": {
    "id": "Qmy2ot4AMNbk"
   },
   "source": [
    "# Use  product.CSV as dataset and build the sentiment analysis model which will predict the positive/negative review based on the star rating."
   ]
  },
  {
   "cell_type": "markdown",
   "metadata": {
    "id": "ppUVUio2PPqv"
   },
   "source": [
    "# Data processing [5 marks]"
   ]
  },
  {
   "cell_type": "markdown",
   "metadata": {
    "id": "IVHDu_rlOeI7"
   },
   "source": [
    "Load the csv file"
   ]
  },
  {
   "cell_type": "code",
   "execution_count": 8,
   "metadata": {
    "id": "fkZXiNMiOfJh"
   },
   "outputs": [],
   "source": [
    "data = pd.read_csv(\"product.csv\")"
   ]
  },
  {
   "cell_type": "markdown",
   "metadata": {
    "id": "mdgmN85yOfh0"
   },
   "source": [
    "### Prepare the data"
   ]
  },
  {
   "cell_type": "code",
   "execution_count": 9,
   "metadata": {
    "tags": []
   },
   "outputs": [
    {
     "data": {
      "text/plain": [
       "{'2 in 1 Laptop',\n",
       " 'Business Laptop',\n",
       " 'Chromebook',\n",
       " 'Gaming Laptop',\n",
       " 'Laptop',\n",
       " 'Notebook',\n",
       " 'Thin and Light Laptop',\n",
       " nan}"
      ]
     },
     "execution_count": 9,
     "metadata": {},
     "output_type": "execute_result"
    }
   ],
   "source": [
    "# Check for non-laptop data\n",
    "set(data[\"type\"])"
   ]
  },
  {
   "cell_type": "code",
   "execution_count": 10,
   "metadata": {
    "tags": []
   },
   "outputs": [
    {
     "data": {
      "text/html": [
       "<div>\n",
       "<style scoped>\n",
       "    .dataframe tbody tr th:only-of-type {\n",
       "        vertical-align: middle;\n",
       "    }\n",
       "\n",
       "    .dataframe tbody tr th {\n",
       "        vertical-align: top;\n",
       "    }\n",
       "\n",
       "    .dataframe thead th {\n",
       "        text-align: right;\n",
       "    }\n",
       "</style>\n",
       "<table border=\"1\" class=\"dataframe\">\n",
       "  <thead>\n",
       "    <tr style=\"text-align: right;\">\n",
       "      <th></th>\n",
       "      <th>title</th>\n",
       "      <th>price</th>\n",
       "      <th>model</th>\n",
       "      <th>type</th>\n",
       "      <th>star_rating</th>\n",
       "      <th>reviews</th>\n",
       "    </tr>\n",
       "  </thead>\n",
       "  <tbody>\n",
       "    <tr>\n",
       "      <th>0</th>\n",
       "      <td>NaN</td>\n",
       "      <td>NaN</td>\n",
       "      <td>NaN</td>\n",
       "      <td>NaN</td>\n",
       "      <td>NaN</td>\n",
       "      <td>NaN</td>\n",
       "    </tr>\n",
       "    <tr>\n",
       "      <th>510</th>\n",
       "      <td>NaN</td>\n",
       "      <td>NaN</td>\n",
       "      <td>NaN</td>\n",
       "      <td>NaN</td>\n",
       "      <td>NaN</td>\n",
       "      <td>NaN</td>\n",
       "    </tr>\n",
       "    <tr>\n",
       "      <th>646</th>\n",
       "      <td>NaN</td>\n",
       "      <td>NaN</td>\n",
       "      <td>NaN</td>\n",
       "      <td>NaN</td>\n",
       "      <td>NaN</td>\n",
       "      <td>NaN</td>\n",
       "    </tr>\n",
       "    <tr>\n",
       "      <th>1510</th>\n",
       "      <td>NaN</td>\n",
       "      <td>NaN</td>\n",
       "      <td>NaN</td>\n",
       "      <td>NaN</td>\n",
       "      <td>NaN</td>\n",
       "      <td>NaN</td>\n",
       "    </tr>\n",
       "    <tr>\n",
       "      <th>1522</th>\n",
       "      <td>NaN</td>\n",
       "      <td>NaN</td>\n",
       "      <td>NaN</td>\n",
       "      <td>NaN</td>\n",
       "      <td>NaN</td>\n",
       "      <td>NaN</td>\n",
       "    </tr>\n",
       "    <tr>\n",
       "      <th>1631</th>\n",
       "      <td>NaN</td>\n",
       "      <td>NaN</td>\n",
       "      <td>NaN</td>\n",
       "      <td>NaN</td>\n",
       "      <td>NaN</td>\n",
       "      <td>NaN</td>\n",
       "    </tr>\n",
       "    <tr>\n",
       "      <th>1693</th>\n",
       "      <td>NaN</td>\n",
       "      <td>NaN</td>\n",
       "      <td>NaN</td>\n",
       "      <td>NaN</td>\n",
       "      <td>NaN</td>\n",
       "      <td>NaN</td>\n",
       "    </tr>\n",
       "    <tr>\n",
       "      <th>1764</th>\n",
       "      <td>NaN</td>\n",
       "      <td>NaN</td>\n",
       "      <td>NaN</td>\n",
       "      <td>NaN</td>\n",
       "      <td>NaN</td>\n",
       "      <td>NaN</td>\n",
       "    </tr>\n",
       "    <tr>\n",
       "      <th>2037</th>\n",
       "      <td>NaN</td>\n",
       "      <td>NaN</td>\n",
       "      <td>NaN</td>\n",
       "      <td>NaN</td>\n",
       "      <td>NaN</td>\n",
       "      <td>NaN</td>\n",
       "    </tr>\n",
       "    <tr>\n",
       "      <th>2161</th>\n",
       "      <td>NaN</td>\n",
       "      <td>NaN</td>\n",
       "      <td>NaN</td>\n",
       "      <td>NaN</td>\n",
       "      <td>NaN</td>\n",
       "      <td>NaN</td>\n",
       "    </tr>\n",
       "    <tr>\n",
       "      <th>2194</th>\n",
       "      <td>NaN</td>\n",
       "      <td>NaN</td>\n",
       "      <td>NaN</td>\n",
       "      <td>NaN</td>\n",
       "      <td>NaN</td>\n",
       "      <td>NaN</td>\n",
       "    </tr>\n",
       "    <tr>\n",
       "      <th>2531</th>\n",
       "      <td>NaN</td>\n",
       "      <td>NaN</td>\n",
       "      <td>NaN</td>\n",
       "      <td>NaN</td>\n",
       "      <td>NaN</td>\n",
       "      <td>NaN</td>\n",
       "    </tr>\n",
       "    <tr>\n",
       "      <th>2539</th>\n",
       "      <td>NaN</td>\n",
       "      <td>NaN</td>\n",
       "      <td>NaN</td>\n",
       "      <td>NaN</td>\n",
       "      <td>NaN</td>\n",
       "      <td>NaN</td>\n",
       "    </tr>\n",
       "    <tr>\n",
       "      <th>2540</th>\n",
       "      <td>NaN</td>\n",
       "      <td>NaN</td>\n",
       "      <td>NaN</td>\n",
       "      <td>NaN</td>\n",
       "      <td>NaN</td>\n",
       "      <td>NaN</td>\n",
       "    </tr>\n",
       "    <tr>\n",
       "      <th>2582</th>\n",
       "      <td>NaN</td>\n",
       "      <td>NaN</td>\n",
       "      <td>NaN</td>\n",
       "      <td>NaN</td>\n",
       "      <td>NaN</td>\n",
       "      <td>NaN</td>\n",
       "    </tr>\n",
       "    <tr>\n",
       "      <th>2650</th>\n",
       "      <td>NaN</td>\n",
       "      <td>NaN</td>\n",
       "      <td>NaN</td>\n",
       "      <td>NaN</td>\n",
       "      <td>NaN</td>\n",
       "      <td>NaN</td>\n",
       "    </tr>\n",
       "    <tr>\n",
       "      <th>2651</th>\n",
       "      <td>NaN</td>\n",
       "      <td>NaN</td>\n",
       "      <td>NaN</td>\n",
       "      <td>NaN</td>\n",
       "      <td>NaN</td>\n",
       "      <td>NaN</td>\n",
       "    </tr>\n",
       "    <tr>\n",
       "      <th>2652</th>\n",
       "      <td>NaN</td>\n",
       "      <td>NaN</td>\n",
       "      <td>NaN</td>\n",
       "      <td>NaN</td>\n",
       "      <td>NaN</td>\n",
       "      <td>NaN</td>\n",
       "    </tr>\n",
       "    <tr>\n",
       "      <th>2771</th>\n",
       "      <td>NaN</td>\n",
       "      <td>NaN</td>\n",
       "      <td>NaN</td>\n",
       "      <td>NaN</td>\n",
       "      <td>NaN</td>\n",
       "      <td>NaN</td>\n",
       "    </tr>\n",
       "    <tr>\n",
       "      <th>2789</th>\n",
       "      <td>NaN</td>\n",
       "      <td>NaN</td>\n",
       "      <td>NaN</td>\n",
       "      <td>NaN</td>\n",
       "      <td>NaN</td>\n",
       "      <td>NaN</td>\n",
       "    </tr>\n",
       "    <tr>\n",
       "      <th>2838</th>\n",
       "      <td>NaN</td>\n",
       "      <td>NaN</td>\n",
       "      <td>NaN</td>\n",
       "      <td>NaN</td>\n",
       "      <td>NaN</td>\n",
       "      <td>NaN</td>\n",
       "    </tr>\n",
       "    <tr>\n",
       "      <th>2914</th>\n",
       "      <td>NaN</td>\n",
       "      <td>NaN</td>\n",
       "      <td>NaN</td>\n",
       "      <td>NaN</td>\n",
       "      <td>NaN</td>\n",
       "      <td>NaN</td>\n",
       "    </tr>\n",
       "    <tr>\n",
       "      <th>2926</th>\n",
       "      <td>NaN</td>\n",
       "      <td>NaN</td>\n",
       "      <td>NaN</td>\n",
       "      <td>NaN</td>\n",
       "      <td>NaN</td>\n",
       "      <td>NaN</td>\n",
       "    </tr>\n",
       "    <tr>\n",
       "      <th>2969</th>\n",
       "      <td>NaN</td>\n",
       "      <td>NaN</td>\n",
       "      <td>NaN</td>\n",
       "      <td>NaN</td>\n",
       "      <td>NaN</td>\n",
       "      <td>NaN</td>\n",
       "    </tr>\n",
       "    <tr>\n",
       "      <th>2970</th>\n",
       "      <td>NaN</td>\n",
       "      <td>NaN</td>\n",
       "      <td>NaN</td>\n",
       "      <td>NaN</td>\n",
       "      <td>NaN</td>\n",
       "      <td>NaN</td>\n",
       "    </tr>\n",
       "    <tr>\n",
       "      <th>3077</th>\n",
       "      <td>NaN</td>\n",
       "      <td>NaN</td>\n",
       "      <td>NaN</td>\n",
       "      <td>NaN</td>\n",
       "      <td>NaN</td>\n",
       "      <td>NaN</td>\n",
       "    </tr>\n",
       "    <tr>\n",
       "      <th>3100</th>\n",
       "      <td>NaN</td>\n",
       "      <td>NaN</td>\n",
       "      <td>NaN</td>\n",
       "      <td>NaN</td>\n",
       "      <td>NaN</td>\n",
       "      <td>NaN</td>\n",
       "    </tr>\n",
       "    <tr>\n",
       "      <th>3124</th>\n",
       "      <td>NaN</td>\n",
       "      <td>NaN</td>\n",
       "      <td>NaN</td>\n",
       "      <td>NaN</td>\n",
       "      <td>NaN</td>\n",
       "      <td>NaN</td>\n",
       "    </tr>\n",
       "  </tbody>\n",
       "</table>\n",
       "</div>"
      ],
      "text/plain": [
       "     title price model type  star_rating reviews\n",
       "0      NaN   NaN   NaN  NaN          NaN     NaN\n",
       "510    NaN   NaN   NaN  NaN          NaN     NaN\n",
       "646    NaN   NaN   NaN  NaN          NaN     NaN\n",
       "1510   NaN   NaN   NaN  NaN          NaN     NaN\n",
       "1522   NaN   NaN   NaN  NaN          NaN     NaN\n",
       "1631   NaN   NaN   NaN  NaN          NaN     NaN\n",
       "1693   NaN   NaN   NaN  NaN          NaN     NaN\n",
       "1764   NaN   NaN   NaN  NaN          NaN     NaN\n",
       "2037   NaN   NaN   NaN  NaN          NaN     NaN\n",
       "2161   NaN   NaN   NaN  NaN          NaN     NaN\n",
       "2194   NaN   NaN   NaN  NaN          NaN     NaN\n",
       "2531   NaN   NaN   NaN  NaN          NaN     NaN\n",
       "2539   NaN   NaN   NaN  NaN          NaN     NaN\n",
       "2540   NaN   NaN   NaN  NaN          NaN     NaN\n",
       "2582   NaN   NaN   NaN  NaN          NaN     NaN\n",
       "2650   NaN   NaN   NaN  NaN          NaN     NaN\n",
       "2651   NaN   NaN   NaN  NaN          NaN     NaN\n",
       "2652   NaN   NaN   NaN  NaN          NaN     NaN\n",
       "2771   NaN   NaN   NaN  NaN          NaN     NaN\n",
       "2789   NaN   NaN   NaN  NaN          NaN     NaN\n",
       "2838   NaN   NaN   NaN  NaN          NaN     NaN\n",
       "2914   NaN   NaN   NaN  NaN          NaN     NaN\n",
       "2926   NaN   NaN   NaN  NaN          NaN     NaN\n",
       "2969   NaN   NaN   NaN  NaN          NaN     NaN\n",
       "2970   NaN   NaN   NaN  NaN          NaN     NaN\n",
       "3077   NaN   NaN   NaN  NaN          NaN     NaN\n",
       "3100   NaN   NaN   NaN  NaN          NaN     NaN\n",
       "3124   NaN   NaN   NaN  NaN          NaN     NaN"
      ]
     },
     "execution_count": 10,
     "metadata": {},
     "output_type": "execute_result"
    }
   ],
   "source": [
    "# CVheck the records with null in type\n",
    "data[data[\"type\"].isnull()]"
   ]
  },
  {
   "cell_type": "markdown",
   "metadata": {},
   "source": [
    "\n",
    "<span style=\"color:red;font-size: 24px;\">As you can see there is no data in these rows. So we can safely drop them</span>"
   ]
  },
  {
   "cell_type": "code",
   "execution_count": 11,
   "metadata": {
    "tags": []
   },
   "outputs": [],
   "source": [
    "data = data[~data[\"type\"].isnull()]"
   ]
  },
  {
   "cell_type": "code",
   "execution_count": 12,
   "metadata": {
    "tags": []
   },
   "outputs": [
    {
     "data": {
      "text/html": [
       "<div>\n",
       "<style scoped>\n",
       "    .dataframe tbody tr th:only-of-type {\n",
       "        vertical-align: middle;\n",
       "    }\n",
       "\n",
       "    .dataframe tbody tr th {\n",
       "        vertical-align: top;\n",
       "    }\n",
       "\n",
       "    .dataframe thead th {\n",
       "        text-align: right;\n",
       "    }\n",
       "</style>\n",
       "<table border=\"1\" class=\"dataframe\">\n",
       "  <thead>\n",
       "    <tr style=\"text-align: right;\">\n",
       "      <th></th>\n",
       "      <th>title</th>\n",
       "      <th>price</th>\n",
       "      <th>model</th>\n",
       "      <th>type</th>\n",
       "      <th>star_rating</th>\n",
       "      <th>reviews</th>\n",
       "    </tr>\n",
       "  </thead>\n",
       "  <tbody>\n",
       "    <tr>\n",
       "      <th>738</th>\n",
       "      <td>DELL Inspiron 3520 Core i3 11th Gen 1115G4 - (...</td>\n",
       "      <td>₹40,990</td>\n",
       "      <td>Inspiron 3520</td>\n",
       "      <td>Thin and Light Laptop</td>\n",
       "      <td>3.6</td>\n",
       "      <td>NaN</td>\n",
       "    </tr>\n",
       "    <tr>\n",
       "      <th>2173</th>\n",
       "      <td>Lenovo Ideapad Slim 3i Intel Core i5 11th Gen ...</td>\n",
       "      <td>₹44,990</td>\n",
       "      <td>NaN</td>\n",
       "      <td>Thin and Light Laptop</td>\n",
       "      <td>4.3</td>\n",
       "      <td>It is good for online classes and for slightly...</td>\n",
       "    </tr>\n",
       "    <tr>\n",
       "      <th>2833</th>\n",
       "      <td>Lenovo ThinkBook 15 Ryzen 3 Hexa Core 5300U - ...</td>\n",
       "      <td>₹37,999</td>\n",
       "      <td>TB15 G3 ACL</td>\n",
       "      <td>Thin and Light Laptop</td>\n",
       "      <td>4.3</td>\n",
       "      <td>bestREAD MORE</td>\n",
       "    </tr>\n",
       "    <tr>\n",
       "      <th>2338</th>\n",
       "      <td>ASUS Vivobook 16 (2023) Core i3 13th Gen 1315U...</td>\n",
       "      <td>₹45,990</td>\n",
       "      <td>X1605VAB-MB322WS</td>\n",
       "      <td>Laptop</td>\n",
       "      <td>4.5</td>\n",
       "      <td>RAM should be increased.READ MORE</td>\n",
       "    </tr>\n",
       "    <tr>\n",
       "      <th>2259</th>\n",
       "      <td>DELL G15 Core i5 12th Gen 12500H - (8 GB/512 G...</td>\n",
       "      <td>₹69,790</td>\n",
       "      <td>Dell G15 Gaming</td>\n",
       "      <td>Gaming Laptop</td>\n",
       "      <td>4.4</td>\n",
       "      <td>Nice productREAD MORE</td>\n",
       "    </tr>\n",
       "  </tbody>\n",
       "</table>\n",
       "</div>"
      ],
      "text/plain": [
       "                                                  title    price  \\\n",
       "738   DELL Inspiron 3520 Core i3 11th Gen 1115G4 - (...  ₹40,990   \n",
       "2173  Lenovo Ideapad Slim 3i Intel Core i5 11th Gen ...  ₹44,990   \n",
       "2833  Lenovo ThinkBook 15 Ryzen 3 Hexa Core 5300U - ...  ₹37,999   \n",
       "2338  ASUS Vivobook 16 (2023) Core i3 13th Gen 1315U...  ₹45,990   \n",
       "2259  DELL G15 Core i5 12th Gen 12500H - (8 GB/512 G...  ₹69,790   \n",
       "\n",
       "                 model                   type  star_rating  \\\n",
       "738      Inspiron 3520  Thin and Light Laptop          3.6   \n",
       "2173               NaN  Thin and Light Laptop          4.3   \n",
       "2833       TB15 G3 ACL  Thin and Light Laptop          4.3   \n",
       "2338  X1605VAB-MB322WS                 Laptop          4.5   \n",
       "2259   Dell G15 Gaming          Gaming Laptop          4.4   \n",
       "\n",
       "                                                reviews  \n",
       "738                                                 NaN  \n",
       "2173  It is good for online classes and for slightly...  \n",
       "2833                                      bestREAD MORE  \n",
       "2338                  RAM should be increased.READ MORE  \n",
       "2259                              Nice productREAD MORE  "
      ]
     },
     "execution_count": 12,
     "metadata": {},
     "output_type": "execute_result"
    }
   ],
   "source": [
    "data.sample(5)"
   ]
  },
  {
   "cell_type": "markdown",
   "metadata": {
    "id": "qGKJM6ysOliX"
   },
   "source": [
    "### Perform an Text preprocessing tasks whichever is appropriate"
   ]
  },
  {
   "cell_type": "code",
   "execution_count": 13,
   "metadata": {
    "id": "GSFpGgRMOoiG"
   },
   "outputs": [],
   "source": [
    "# Replace \"READ MORE\" in reviews\n",
    "data[\"reviews\"] = data[\"reviews\"].str.replace(\"READ MORE\", \"\")"
   ]
  },
  {
   "cell_type": "code",
   "execution_count": 14,
   "metadata": {
    "tags": []
   },
   "outputs": [],
   "source": [
    "# Drop rows where there are no reviews\n",
    "data = data[~data[\"reviews\"].isnull()]\n",
    "data = data[~data[\"star_rating\"].isnull()]"
   ]
  },
  {
   "cell_type": "code",
   "execution_count": 15,
   "metadata": {
    "tags": []
   },
   "outputs": [],
   "source": [
    "# Convert star ratings to positive or negative sentiment\n",
    "data['star_rating'] = data['star_rating'].astype(float)\n",
    "data['sentiment'] = np.where(data['star_rating'] >= 3.5, 1, 0)"
   ]
  },
  {
   "cell_type": "code",
   "execution_count": 16,
   "metadata": {
    "tags": []
   },
   "outputs": [
    {
     "name": "stderr",
     "output_type": "stream",
     "text": [
      "[nltk_data] Downloading package punkt to\n",
      "[nltk_data]     C:\\Users\\vssha\\AppData\\Roaming\\nltk_data...\n",
      "[nltk_data]   Package punkt is already up-to-date!\n",
      "[nltk_data] Downloading package stopwords to\n",
      "[nltk_data]     C:\\Users\\vssha\\AppData\\Roaming\\nltk_data...\n",
      "[nltk_data]   Package stopwords is already up-to-date!\n",
      "[nltk_data] Downloading package wordnet to\n",
      "[nltk_data]     C:\\Users\\vssha\\AppData\\Roaming\\nltk_data...\n",
      "[nltk_data]   Package wordnet is already up-to-date!\n",
      "[nltk_data] Downloading package averaged_perceptron_tagger to\n",
      "[nltk_data]     C:\\Users\\vssha\\AppData\\Roaming\\nltk_data...\n",
      "[nltk_data]   Package averaged_perceptron_tagger is already up-to-\n",
      "[nltk_data]       date!\n"
     ]
    }
   ],
   "source": [
    "# Download necessary NLTK resources\n",
    "nltk.download(\"punkt\")\n",
    "nltk.download(\"stopwords\")\n",
    "nltk.download(\"wordnet\")\n",
    "nltk.download(\"averaged_perceptron_tagger\")\n",
    "\n",
    "# Initialize the lemmatizer and stop words list\n",
    "lemmatizer = WordNetLemmatizer()\n",
    "stop_words = set(stopwords.words(\"english\"))\n",
    "\n",
    "\n",
    "def preprocess_text(text):\n",
    "    \"\"\"\n",
    "    Preprocess the text by performing several cleaning steps.\n",
    "    \"\"\"\n",
    "    # Check if the text is a string\n",
    "    if not isinstance(text, str):\n",
    "        return \"\"\n",
    "\n",
    "    # Convert text to lowercase\n",
    "    text = text.lower()\n",
    "    # Remove punctuation and symbols\n",
    "    text = re.sub(r\"[^\\w\\s]\", \"\", text)\n",
    "    # Remove numbers\n",
    "    text = re.sub(r\"\\d+\", \"\", text)\n",
    "    # Remove emojis\n",
    "    text = re.sub(r\"[^\\x00-\\x7F]+\", \"\", text)\n",
    "    # Remove extra spaces\n",
    "    text = re.sub(r\"\\s+\", \" \", text).strip()\n",
    "    # Tokenization\n",
    "    tokens = word_tokenize(text)\n",
    "    # Punctuation mark removal and stop word removal\n",
    "    tokens = [\n",
    "        word\n",
    "        for word in tokens\n",
    "        if word not in string.punctuation and word not in stop_words\n",
    "    ]\n",
    "    # Lemmatization\n",
    "    lemmatized_tokens = [\n",
    "        lemmatizer.lemmatize(word, get_wordnet_pos(word)) for word in tokens\n",
    "    ]\n",
    "    return \" \".join(lemmatized_tokens)\n",
    "\n",
    "\n",
    "def get_wordnet_pos(word):\n",
    "    \"\"\"Map POS tag to first character lemmatize() accepts\"\"\"\n",
    "    tag = nltk.pos_tag([word])[0][1][0].upper()\n",
    "    tag_dict = {\n",
    "        \"J\": wordnet.ADJ,\n",
    "        \"N\": wordnet.NOUN,\n",
    "        \"V\": wordnet.VERB,\n",
    "        \"R\": wordnet.ADV,\n",
    "    }\n",
    "\n",
    "    return tag_dict.get(tag, wordnet.NOUN)\n",
    "\n",
    "\n",
    "# Applying the preprocessing function to the reviews column\n",
    "data[\"cleaned_reviews\"] = data[\"reviews\"].apply(preprocess_text)"
   ]
  },
  {
   "cell_type": "code",
   "execution_count": 17,
   "metadata": {
    "tags": []
   },
   "outputs": [
    {
     "data": {
      "text/plain": [
       "1767    hey everyoneafter reading review purchase lapt...\n",
       "2318    best laptop student enough office workhinge qu...\n",
       "2108    true premium laptop speed performancelooks scr...\n",
       "352     price point wing nuvobook laptop delivers exce...\n",
       "262     excellent laptop great pricethe nm amd ryzen u...\n",
       "3003    worth money spentgot day review sound output l...\n",
       "375     overheat keypad also heating dont buy anyonean...\n",
       "1479    great product great performanceonly con feel w...\n",
       "2860                                        heating issue\n",
       "300         good look good performance good battery bekup\n",
       "Name: cleaned_reviews, dtype: object"
      ]
     },
     "execution_count": 17,
     "metadata": {},
     "output_type": "execute_result"
    }
   ],
   "source": [
    "data[\"cleaned_reviews\"].sample(10)"
   ]
  },
  {
   "cell_type": "markdown",
   "metadata": {
    "id": "52HJJMHvOvf1"
   },
   "source": [
    "### Separate the dependent and the independent variables."
   ]
  },
  {
   "cell_type": "code",
   "execution_count": 18,
   "metadata": {
    "tags": []
   },
   "outputs": [],
   "source": [
    "# Independent variables (features)\n",
    "X = data[\"cleaned_reviews\"]\n",
    "\n",
    "# Dependent variable (target)\n",
    "y = data[\"sentiment\"]"
   ]
  },
  {
   "cell_type": "markdown",
   "metadata": {
    "id": "z4GVY-iqOw8J"
   },
   "source": [
    "### Print the first ten records of data."
   ]
  },
  {
   "cell_type": "code",
   "execution_count": 19,
   "metadata": {
    "id": "RWHQP2yCOzpZ"
   },
   "outputs": [
    {
     "data": {
      "text/plain": [
       "1     zen book premium series asus laptop provide im...\n",
       "2     excellent get around k would awesome processor...\n",
       "3     goodi build quality absolutely phenomenal buil...\n",
       "4                        product good bole paisa wasool\n",
       "5     lovely productwould defenitely recommend inter...\n",
       "6                display best laptop speaker could well\n",
       "7     good simple great screen laptop look premium l...\n",
       "8     great oled screen price range wont want look s...\n",
       "9     get k absolutely beast price love oled panel t...\n",
       "10    best laptop kspeaker issue solve use dts app p...\n",
       "Name: cleaned_reviews, dtype: object"
      ]
     },
     "execution_count": 19,
     "metadata": {},
     "output_type": "execute_result"
    }
   ],
   "source": [
    "X.head(10)"
   ]
  },
  {
   "cell_type": "code",
   "execution_count": 20,
   "metadata": {
    "tags": []
   },
   "outputs": [
    {
     "data": {
      "text/plain": [
       "1     1\n",
       "2     1\n",
       "3     1\n",
       "4     1\n",
       "5     1\n",
       "6     1\n",
       "7     1\n",
       "8     1\n",
       "9     1\n",
       "10    1\n",
       "Name: sentiment, dtype: int32"
      ]
     },
     "execution_count": 20,
     "metadata": {},
     "output_type": "execute_result"
    }
   ],
   "source": [
    "y.head(10)"
   ]
  },
  {
   "cell_type": "code",
   "execution_count": null,
   "metadata": {},
   "outputs": [
    {
     "data": {
      "text/plain": [
       "array([1, 0])"
      ]
     },
     "execution_count": 32,
     "metadata": {},
     "output_type": "execute_result"
    }
   ],
   "source": [
    "Y.unique"
   ]
  },
  {
   "cell_type": "code",
   "execution_count": 21,
   "metadata": {},
   "outputs": [
    {
     "data": {
      "text/plain": [
       "<AxesSubplot:>"
      ]
     },
     "execution_count": 21,
     "metadata": {},
     "output_type": "execute_result"
    },
    {
     "data": {
      "image/png": "[encoded data removed]",
      "text/plain": [
       "<Figure size 640x480 with 1 Axes>"
      ]
     },
     "metadata": {},
     "output_type": "display_data"
    }
   ],
   "source": [
    "data['star_rating'].hist()"
   ]
  },
  {
   "cell_type": "markdown",
   "metadata": {
    "id": "QDR0FiQANru9"
   },
   "source": [
    "## Feature Extraction - Do count vectorizer and pad sequence use maximum features as 1000 [5 marks]"
   ]
  },
  {
   "cell_type": "code",
   "execution_count": 22,
   "metadata": {
    "id": "6f5PpdunN0PX"
   },
   "outputs": [],
   "source": [
    "# Vectorize the text data\n",
    "vectorizer = CountVectorizer(max_features=1000)\n",
    "X_vectorized = vectorizer.fit_transform(X)\n",
    "# Pad sequences\n",
    "maxlen = 100\n",
    "X_padded = pad_sequences(X_vectorized.toarray(), maxlen=maxlen)"
   ]
  },
  {
   "cell_type": "code",
   "execution_count": 23,
   "metadata": {
    "tags": []
   },
   "outputs": [
    {
     "name": "stdout",
     "output_type": "stream",
     "text": [
      "Number of samples in X: 3035\n",
      "Number of samples in y: 3035\n"
     ]
    }
   ],
   "source": [
    "# Check if the number of samples in X and y match\n",
    "print(f\"Number of samples in X: {X_padded.shape[0]}\")\n",
    "print(f\"Number of samples in y: {y.shape[0]}\")"
   ]
  },
  {
   "cell_type": "markdown",
   "metadata": {
    "id": "v8I5w5-AN1d2"
   },
   "source": [
    "### Split the training and testing data"
   ]
  },
  {
   "cell_type": "code",
   "execution_count": 24,
   "metadata": {
    "id": "imN7H7CLN7UB"
   },
   "outputs": [],
   "source": [
    "# Split the data into training and testing sets\n",
    "X_train, X_test, y_train, y_test = train_test_split(X_padded, y, test_size=0.3, random_state=42,shuffle=True,stratify=y)"
   ]
  },
  {
   "cell_type": "markdown",
   "metadata": {
    "id": "4-dI1PjgN7zs"
   },
   "source": [
    "# Design a LSTM Model [5 marks]"
   ]
  },
  {
   "cell_type": "code",
   "execution_count": 25,
   "metadata": {
    "id": "a6suv2fiOH-T"
   },
   "outputs": [
    {
     "name": "stderr",
     "output_type": "stream",
     "text": [
      "WARNING:absl:`lr` is deprecated in Keras optimizer, please use `learning_rate` or use the legacy optimizer, e.g.,tf.keras.optimizers.legacy.Adam.\n"
     ]
    }
   ],
   "source": [
    "# Design the LSTM model\n",
    "model = Sequential()\n",
    "model.add(Embedding(1000, 128, input_length=maxlen))\n",
    "model.add(Bidirectional(LSTM(64)))\n",
    "model.add(Dense(1, activation='sigmoid'))\n",
    "# Compile the model\n",
    "optimizer = optimizers.Adam(lr=0.0008)  # Start with a higher learning rate\n",
    "reduce_lr = ReduceLROnPlateau(monitor='val_accuracy', factor=0.2, patience=3, min_lr=0.0000000000000000000000001)\n",
    "\n",
    "model.compile(loss='binary_crossentropy', optimizer=optimizer, metrics=['accuracy'])"
   ]
  },
  {
   "cell_type": "markdown",
   "metadata": {
    "id": "il_mxZXmOIUM"
   },
   "source": [
    "### print the model summary"
   ]
  },
  {
   "cell_type": "code",
   "execution_count": 26,
   "metadata": {
    "id": "M_w_6Q70OKue"
   },
   "outputs": [
    {
     "name": "stdout",
     "output_type": "stream",
     "text": [
      "Model: \"sequential\"\n",
      "_________________________________________________________________\n",
      " Layer (type)                Output Shape              Param #   \n",
      "=================================================================\n",
      " embedding (Embedding)       (None, 100, 128)          128000    \n",
      "                                                                 \n",
      " bidirectional (Bidirectiona  (None, 128)              98816     \n",
      " l)                                                              \n",
      "                                                                 \n",
      " dense (Dense)               (None, 1)                 129       \n",
      "                                                                 \n",
      "=================================================================\n",
      "Total params: 226,945\n",
      "Trainable params: 226,945\n",
      "Non-trainable params: 0\n",
      "_________________________________________________________________\n"
     ]
    }
   ],
   "source": [
    "# Print model summary\n",
    "model.summary()"
   ]
  },
  {
   "cell_type": "markdown",
   "metadata": {
    "id": "SzN9YOdvOLFb"
   },
   "source": [
    "### Train and validate the model"
   ]
  },
  {
   "cell_type": "code",
   "execution_count": 27,
   "metadata": {
    "id": "PxAwEIG8ORs4"
   },
   "outputs": [
    {
     "name": "stdout",
     "output_type": "stream",
     "text": [
      "Epoch 1/50\n",
      "71/71 [==============================] - 9s 61ms/step - loss: 0.0840 - accuracy: 0.9962 - val_loss: 0.0172 - val_accuracy: 0.9978 - lr: 0.0010\n",
      "Epoch 2/50\n",
      "71/71 [==============================] - 4s 51ms/step - loss: 0.0208 - accuracy: 0.9972 - val_loss: 0.0159 - val_accuracy: 0.9978 - lr: 0.0010\n",
      "Epoch 3/50\n",
      "71/71 [==============================] - 4s 52ms/step - loss: 0.0201 - accuracy: 0.9972 - val_loss: 0.0169 - val_accuracy: 0.9978 - lr: 0.0010\n",
      "Epoch 4/50\n",
      "71/71 [==============================] - 4s 51ms/step - loss: 0.0196 - accuracy: 0.9972 - val_loss: 0.0157 - val_accuracy: 0.9978 - lr: 0.0010\n",
      "Epoch 5/50\n",
      "71/71 [==============================] - 4s 52ms/step - loss: 0.0198 - accuracy: 0.9972 - val_loss: 0.0156 - val_accuracy: 0.9978 - lr: 2.0000e-04\n",
      "Epoch 6/50\n",
      "71/71 [==============================] - 4s 52ms/step - loss: 0.0197 - accuracy: 0.9972 - val_loss: 0.0156 - val_accuracy: 0.9978 - lr: 2.0000e-04\n",
      "Epoch 7/50\n",
      "71/71 [==============================] - 4s 52ms/step - loss: 0.0196 - accuracy: 0.9972 - val_loss: 0.0156 - val_accuracy: 0.9978 - lr: 2.0000e-04\n",
      "Epoch 8/50\n",
      "71/71 [==============================] - 4s 53ms/step - loss: 0.0194 - accuracy: 0.9972 - val_loss: 0.0156 - val_accuracy: 0.9978 - lr: 4.0000e-05\n",
      "Epoch 9/50\n",
      "71/71 [==============================] - 4s 54ms/step - loss: 0.0194 - accuracy: 0.9972 - val_loss: 0.0157 - val_accuracy: 0.9978 - lr: 4.0000e-05\n",
      "Epoch 10/50\n",
      "71/71 [==============================] - 4s 56ms/step - loss: 0.0194 - accuracy: 0.9972 - val_loss: 0.0157 - val_accuracy: 0.9978 - lr: 4.0000e-05\n",
      "Epoch 11/50\n",
      "71/71 [==============================] - 4s 56ms/step - loss: 0.0194 - accuracy: 0.9972 - val_loss: 0.0157 - val_accuracy: 0.9978 - lr: 8.0000e-06\n",
      "Epoch 12/50\n",
      "71/71 [==============================] - 5s 65ms/step - loss: 0.0194 - accuracy: 0.9972 - val_loss: 0.0157 - val_accuracy: 0.9978 - lr: 8.0000e-06\n",
      "Epoch 13/50\n",
      "71/71 [==============================] - 4s 58ms/step - loss: 0.0194 - accuracy: 0.9972 - val_loss: 0.0157 - val_accuracy: 0.9978 - lr: 8.0000e-06\n",
      "Epoch 14/50\n",
      "71/71 [==============================] - 4s 57ms/step - loss: 0.0194 - accuracy: 0.9972 - val_loss: 0.0157 - val_accuracy: 0.9978 - lr: 1.6000e-06\n",
      "Epoch 15/50\n",
      "71/71 [==============================] - 4s 56ms/step - loss: 0.0194 - accuracy: 0.9972 - val_loss: 0.0157 - val_accuracy: 0.9978 - lr: 1.6000e-06\n",
      "Epoch 16/50\n",
      "71/71 [==============================] - 4s 57ms/step - loss: 0.0194 - accuracy: 0.9972 - val_loss: 0.0157 - val_accuracy: 0.9978 - lr: 1.6000e-06\n",
      "Epoch 17/50\n",
      "71/71 [==============================] - 4s 56ms/step - loss: 0.0194 - accuracy: 0.9972 - val_loss: 0.0157 - val_accuracy: 0.9978 - lr: 3.2000e-07\n",
      "Epoch 18/50\n",
      "71/71 [==============================] - 4s 57ms/step - loss: 0.0194 - accuracy: 0.9972 - val_loss: 0.0157 - val_accuracy: 0.9978 - lr: 3.2000e-07\n",
      "Epoch 19/50\n",
      "71/71 [==============================] - 5s 65ms/step - loss: 0.0194 - accuracy: 0.9972 - val_loss: 0.0157 - val_accuracy: 0.9978 - lr: 3.2000e-07\n",
      "Epoch 20/50\n",
      "71/71 [==============================] - 4s 60ms/step - loss: 0.0194 - accuracy: 0.9972 - val_loss: 0.0157 - val_accuracy: 0.9978 - lr: 6.4000e-08\n",
      "Epoch 21/50\n",
      "71/71 [==============================] - 4s 61ms/step - loss: 0.0194 - accuracy: 0.9972 - val_loss: 0.0157 - val_accuracy: 0.9978 - lr: 6.4000e-08\n",
      "Epoch 22/50\n",
      "71/71 [==============================] - 4s 58ms/step - loss: 0.0194 - accuracy: 0.9972 - val_loss: 0.0157 - val_accuracy: 0.9978 - lr: 6.4000e-08\n",
      "Epoch 23/50\n",
      "71/71 [==============================] - 4s 56ms/step - loss: 0.0194 - accuracy: 0.9972 - val_loss: 0.0157 - val_accuracy: 0.9978 - lr: 1.2800e-08\n",
      "Epoch 24/50\n",
      "71/71 [==============================] - 4s 58ms/step - loss: 0.0194 - accuracy: 0.9972 - val_loss: 0.0157 - val_accuracy: 0.9978 - lr: 1.2800e-08\n",
      "Epoch 25/50\n",
      "71/71 [==============================] - 4s 56ms/step - loss: 0.0194 - accuracy: 0.9972 - val_loss: 0.0157 - val_accuracy: 0.9978 - lr: 1.2800e-08\n",
      "Epoch 26/50\n",
      "71/71 [==============================] - 4s 60ms/step - loss: 0.0194 - accuracy: 0.9972 - val_loss: 0.0157 - val_accuracy: 0.9978 - lr: 2.5600e-09\n",
      "Epoch 27/50\n",
      "71/71 [==============================] - 4s 58ms/step - loss: 0.0194 - accuracy: 0.9972 - val_loss: 0.0157 - val_accuracy: 0.9978 - lr: 2.5600e-09\n",
      "Epoch 28/50\n",
      "71/71 [==============================] - 4s 56ms/step - loss: 0.0194 - accuracy: 0.9972 - val_loss: 0.0157 - val_accuracy: 0.9978 - lr: 2.5600e-09\n",
      "Epoch 29/50\n",
      "71/71 [==============================] - 4s 56ms/step - loss: 0.0194 - accuracy: 0.9972 - val_loss: 0.0157 - val_accuracy: 0.9978 - lr: 5.1200e-10\n",
      "Epoch 30/50\n",
      "71/71 [==============================] - 4s 57ms/step - loss: 0.0194 - accuracy: 0.9972 - val_loss: 0.0157 - val_accuracy: 0.9978 - lr: 5.1200e-10\n",
      "Epoch 31/50\n",
      "71/71 [==============================] - 4s 57ms/step - loss: 0.0194 - accuracy: 0.9972 - val_loss: 0.0157 - val_accuracy: 0.9978 - lr: 5.1200e-10\n",
      "Epoch 32/50\n",
      "71/71 [==============================] - 4s 58ms/step - loss: 0.0194 - accuracy: 0.9972 - val_loss: 0.0157 - val_accuracy: 0.9978 - lr: 1.0240e-10\n",
      "Epoch 33/50\n",
      "71/71 [==============================] - 4s 58ms/step - loss: 0.0194 - accuracy: 0.9972 - val_loss: 0.0157 - val_accuracy: 0.9978 - lr: 1.0240e-10\n",
      "Epoch 34/50\n",
      "71/71 [==============================] - 4s 56ms/step - loss: 0.0194 - accuracy: 0.9972 - val_loss: 0.0157 - val_accuracy: 0.9978 - lr: 1.0240e-10\n",
      "Epoch 35/50\n",
      "71/71 [==============================] - 4s 57ms/step - loss: 0.0194 - accuracy: 0.9972 - val_loss: 0.0157 - val_accuracy: 0.9978 - lr: 2.0480e-11\n",
      "Epoch 36/50\n",
      "71/71 [==============================] - 4s 56ms/step - loss: 0.0194 - accuracy: 0.9972 - val_loss: 0.0157 - val_accuracy: 0.9978 - lr: 2.0480e-11\n",
      "Epoch 37/50\n",
      "71/71 [==============================] - 4s 59ms/step - loss: 0.0194 - accuracy: 0.9972 - val_loss: 0.0157 - val_accuracy: 0.9978 - lr: 2.0480e-11\n",
      "Epoch 38/50\n",
      "71/71 [==============================] - 4s 59ms/step - loss: 0.0194 - accuracy: 0.9972 - val_loss: 0.0157 - val_accuracy: 0.9978 - lr: 4.0960e-12\n",
      "Epoch 39/50\n",
      "71/71 [==============================] - 4s 57ms/step - loss: 0.0194 - accuracy: 0.9972 - val_loss: 0.0157 - val_accuracy: 0.9978 - lr: 4.0960e-12\n",
      "Epoch 40/50\n",
      "71/71 [==============================] - 4s 57ms/step - loss: 0.0194 - accuracy: 0.9972 - val_loss: 0.0157 - val_accuracy: 0.9978 - lr: 4.0960e-12\n",
      "Epoch 41/50\n",
      "71/71 [==============================] - 4s 59ms/step - loss: 0.0194 - accuracy: 0.9972 - val_loss: 0.0157 - val_accuracy: 0.9978 - lr: 8.1920e-13\n",
      "Epoch 42/50\n",
      "71/71 [==============================] - 4s 59ms/step - loss: 0.0194 - accuracy: 0.9972 - val_loss: 0.0157 - val_accuracy: 0.9978 - lr: 8.1920e-13\n",
      "Epoch 43/50\n",
      "71/71 [==============================] - 4s 58ms/step - loss: 0.0194 - accuracy: 0.9972 - val_loss: 0.0157 - val_accuracy: 0.9978 - lr: 8.1920e-13\n",
      "Epoch 44/50\n",
      "71/71 [==============================] - 4s 59ms/step - loss: 0.0194 - accuracy: 0.9972 - val_loss: 0.0157 - val_accuracy: 0.9978 - lr: 1.6384e-13\n",
      "Epoch 45/50\n",
      "71/71 [==============================] - 4s 57ms/step - loss: 0.0194 - accuracy: 0.9972 - val_loss: 0.0157 - val_accuracy: 0.9978 - lr: 1.6384e-13\n",
      "Epoch 46/50\n",
      "71/71 [==============================] - 4s 57ms/step - loss: 0.0194 - accuracy: 0.9972 - val_loss: 0.0157 - val_accuracy: 0.9978 - lr: 1.6384e-13\n",
      "Epoch 47/50\n",
      "71/71 [==============================] - 4s 57ms/step - loss: 0.0194 - accuracy: 0.9972 - val_loss: 0.0157 - val_accuracy: 0.9978 - lr: 3.2768e-14\n",
      "Epoch 48/50\n",
      "71/71 [==============================] - 4s 58ms/step - loss: 0.0194 - accuracy: 0.9972 - val_loss: 0.0157 - val_accuracy: 0.9978 - lr: 3.2768e-14\n",
      "Epoch 49/50\n",
      "71/71 [==============================] - 4s 57ms/step - loss: 0.0194 - accuracy: 0.9972 - val_loss: 0.0157 - val_accuracy: 0.9978 - lr: 3.2768e-14\n",
      "Epoch 50/50\n",
      "71/71 [==============================] - 4s 57ms/step - loss: 0.0194 - accuracy: 0.9972 - val_loss: 0.0157 - val_accuracy: 0.9978 - lr: 6.5536e-15\n"
     ]
    },
    {
     "data": {
      "text/plain": [
       "<keras.callbacks.History at 0x229b1e36f40>"
      ]
     },
     "execution_count": 27,
     "metadata": {},
     "output_type": "execute_result"
    }
   ],
   "source": [
    "# Train the model with validation data\n",
    "model.fit(X_train, y_train, validation_data=(X_test, y_test), epochs=50, batch_size=30, callbacks=[reduce_lr])"
   ]
  },
  {
   "cell_type": "markdown",
   "metadata": {
    "id": "krB9GGZ6OSDa"
   },
   "source": [
    "\n",
    "Test the model with your own example."
   ]
  },
  {
   "cell_type": "code",
   "execution_count": 28,
   "metadata": {},
   "outputs": [
    {
     "data": {
      "text/plain": [
       "{0, 1}"
      ]
     },
     "execution_count": 28,
     "metadata": {},
     "output_type": "execute_result"
    }
   ],
   "source": [
    "set(y)"
   ]
  },
  {
   "cell_type": "code",
   "execution_count": 72,
   "metadata": {},
   "outputs": [
    {
     "name": "stdout",
     "output_type": "stream",
     "text": [
      "text    \n",
      "dtype: object\n",
      "100\n",
      "100\n",
      "1/1 [==============================] - 0s 24ms/step\n",
      "review value is negative: 0\n"
     ]
    }
   ],
   "source": [
    "text = 'This Laptop is bad buy for gaming. It lags when playing games that require high FPS and graphics. Though the battery is said to last 4 hours the real battery life is 2 hours'\n",
    "tester = np.array([text])\n",
    "tester = pd.DataFrame(tester)\n",
    "tester.columns = ['text']\n",
    "test = tester.apply(preprocess_text)\n",
    "print(str(test))\n",
    "#tester['text'] = tester['text'].apply(lambda x: x.lower())\n",
    "#tester['text'] = tester['text'].apply((lambda x: re.sub('[^a-zA-z0-9\\s]','',x)))\n",
    "\n",
    "max_fatures = 20\n",
    "#test = vectorizer.texts_to_sequences(tester['text'].values)\n",
    "\n",
    "\n",
    "X_vectorized = vectorizer.fit_transform(tester['text'])\n",
    "# Pad sequences\n",
    "maxlen = 100\n",
    "X_padded = pad_sequences(X_vectorized.toarray(), maxlen=maxlen)\n",
    "\n",
    "\n",
    "print(X_test.shape[1])\n",
    "\n",
    "if X_test.shape[1]>X_padded.shape[1]:\n",
    "    test = np.pad(test[0], (X.shape[1]-test.shape[1],0), 'constant')\n",
    "\n",
    "#test = np.array([test])\n",
    "\n",
    "print(X_padded.shape[1])\n",
    "prediction = model.predict(X_padded)\n",
    "y_pred= prediction[0].argmax()\n",
    "\n",
    "if(y_pred == 1 & y_pred >0):\n",
    "    print('review value is positive:',y_pred)\n",
    "elif(y_pred ==0):\n",
    "    print('review value is negative:',y_pred)"
   ]
  },
  {
   "cell_type": "code",
   "execution_count": 86,
   "metadata": {},
   "outputs": [
    {
     "name": "stdout",
     "output_type": "stream",
     "text": [
      "text    \n",
      "dtype: object\n",
      "100\n",
      "100\n",
      "1/1 [==============================] - 0s 22ms/step\n"
     ]
    },
    {
     "data": {
      "text/plain": [
       "0"
      ]
     },
     "execution_count": 86,
     "metadata": {},
     "output_type": "execute_result"
    }
   ],
   "source": [
    "text = 'excellent laptop great pricethe nm amd ryzen u'\n",
    "tester = np.array([text])\n",
    "tester = pd.DataFrame(tester)\n",
    "tester.columns = ['text']\n",
    "test = tester.apply(preprocess_text)\n",
    "print(str(test))\n",
    "#tester['text'] = tester['text'].apply(lambda x: x.lower())\n",
    "#tester['text'] = tester['text'].apply((lambda x: re.sub('[^a-zA-z0-9\\s]','',x)))\n",
    "\n",
    "max_fatures = 20\n",
    "#test = vectorizer.texts_to_sequences(tester['text'].values)\n",
    "\n",
    "\n",
    "X_vectorized = vectorizer.fit_transform(tester['text'])\n",
    "# Pad sequences\n",
    "maxlen = 100\n",
    "X_padded = pad_sequences(X_vectorized.toarray(), maxlen=maxlen)\n",
    "\n",
    "\n",
    "print(X_test.shape[1])\n",
    "\n",
    "if X_test.shape[1]>X_padded.shape[1]:\n",
    "    test = np.pad(test[0], (X.shape[1]-test.shape[1],0), 'constant')\n",
    "\n",
    "#test = np.array([test])\n",
    "\n",
    "print(X_padded.shape[1])\n",
    "prediction = model.predict(X_padded)\n",
    "prediction.argmax()\n",
    "\n",
    "#if(y_pred == 1 & y_pred >0):\n",
    "    #print('review value is positive:',y_pred)\n",
    "#elif(y_pred ==0):\n",
    "    #print('review value is negative:',y_pred)"
   ]
  },
  {
   "cell_type": "code",
   "execution_count": null,
   "metadata": {},
   "outputs": [],
   "source": []
  }
 ],
 "metadata": {
  "colab": {
   "provenance": []
  },
  "kernelspec": {
   "display_name": "Python 3 (ipykernel)",
   "language": "python",
   "name": "python3"
  },
  "language_info": {
   "codemirror_mode": {
    "name": "ipython",
    "version": 3
   },
   "file_extension": ".py",
   "mimetype": "text/x-python",
   "name": "python",
   "nbconvert_exporter": "python",
   "pygments_lexer": "ipython3",
   "version": "3.9.13"
  }
 },
 "nbformat": 4,
 "nbformat_minor": 4
}
