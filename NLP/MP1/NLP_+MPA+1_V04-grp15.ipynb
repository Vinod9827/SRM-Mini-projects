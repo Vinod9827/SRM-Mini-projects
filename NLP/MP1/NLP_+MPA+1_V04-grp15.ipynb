{
 "cells": [
  {
   "cell_type": "markdown",
   "metadata": {
    "id": "cYffZdXHmHjd"
   },
   "source": [
    "<table align=\"left\" width=100%>\n",
    "    <tr>\n",
    "        <td width=\"20%\">\n",
    "            <img src=\"faculty.png\">\n",
    "        </td>\n",
    "        <td>\n",
    "            <div align=\"center\">\n",
    "                <font color=\"#21618C\" size=8px>\n",
    "                  <b> Assignment Questions </b>\n",
    "                </font>\n",
    "            </div>\n",
    "        </td>\n",
    "    </tr>\n",
    "</table>"
   ]
  },
  {
   "cell_type": "markdown",
   "metadata": {},
   "source": [
    "<table align=\"left\" width=100%>\n",
    "    <tr>\n",
    "        <td>\n",
    "            <div align=\"center\">\n",
    "                <font color=\"#21618C\" size=5px>\n",
    "                  <b>Group-16</b>\n",
    "                </font>\n",
    "            </div>\n",
    "        </td>\n",
    "    </tr>\n",
    "    <tr>\n",
    "        <td>\n",
    "            <div align=\"left\">\n",
    "                <font color=\"#21618C\" size=5px>\n",
    "                  <b> V S Shabarish </b>\n",
    "                </font>\n",
    "            </div>\n",
    "        </td>\n",
    "    </tr>\n",
    "    <tr>\n",
    "        <td>\n",
    "            <div align=\"left\">\n",
    "                <font color=\"#21618C\" size=5px>\n",
    "                  <b> Tania Khan </b>\n",
    "                </font>\n",
    "            </div>\n",
    "        </td>\n",
    "    </tr>\n",
    "    <tr>\n",
    "        <td>\n",
    "            <div align=\"left\">\n",
    "                <font color=\"#21618C\" size=5px>\n",
    "                  <b> Vinod A </b>\n",
    "                </font>\n",
    "            </div>\n",
    "        </td>\n",
    "    </tr>\n",
    "</table>"
   ]
  },
  {
   "cell_type": "markdown",
   "metadata": {
    "id": "NisFmsKamHjp"
   },
   "source": [
    "Total Marks:  30 Marks\n",
    "\n",
    "\n",
    "### About the data set (COMPANY_Reviews)\n",
    "\n",
    "The dataset contains Text reviews. The aim of this assignment is to classsify the review texts into two categories. \n",
    "\n",
    "Attribute information: \n",
    " \n",
    "Dataset has two columns:\n",
    "Column2: Review Text\n",
    "Column1: Two Classes. Positive and negative."
   ]
  },
  {
   "cell_type": "markdown",
   "metadata": {
    "id": "lfwprmJMmHjr"
   },
   "source": [
    "## Table of Content\n",
    "\n",
    "1. **[Import Libraries](#lib)**\n",
    "2. **[Load the Data  (5 Marks)](#prep)**\n",
    "    - 2.1 - **[Read the Data   (1 Mark)](#read)**\n",
    "    - 2.2 - **[Dispay the first ten rows (1 Mark) ](#dtype)**\n",
    "    - 2.3 - **[Display the information about the data (1 Mark)](#drop)**\n",
    "    - 2.4 - **[Encode the sentiment column values as 1 or 0 (2 Marks)](#dummy)**\n",
    "3.  **[Data preprocessing  (7 Marks)](#prep)**\n",
    "    - 3.1 - **[Remove special characters and html tags (2 Marks)](#read)**\n",
    "    - 3.2 - **[Convert reviews into lowercase (1 Mark)](#dtype)**\n",
    "    - 3.3 - **[Removal of stop words (2 Marks)](#drop)**\n",
    "    - 3.4 - **[Apply stemming (2 Marks)](#dummy)**\n",
    "4.**[Convert review text into feature vector and classification (18 Marks)](#prep)**\n",
    "    - 4.1 - **[create BOW model (2 Marks)](#cut_off)**\n",
    "    - 4.2 - **[Training data and Test data -split  (1 Mark)](#dtype)**\n",
    "    - 4.3 - **[Define the Classification model (any one like NB, SVM or Random forest) train the model  (3 Marks) ](#drop)**\n",
    "    - 4.4 - **[Classification metrics analysis (2 Marks)](#dummy)**\n",
    "    - 4.5 - **[predict the class for your own review (2 Marks)](#dummy)**\n",
    "\n",
    "    - 4.6 - **[create feature vector using tf-idf  (2 Marks)](#cut_off)**\n",
    "    - 4.7 - **[Define the Classification model (any one like NB, SVM or Random forest) train the model (2 Marks)](#drop)**\n",
    "    - 4.8 - **[Classification metrics analysis (2 Marks)](#dummy)**\n",
    "    - 4.9 - **[predict the class for your own review (2 Marks) ](#dummy)**\n",
    "\n",
    "        "
   ]
  },
  {
   "cell_type": "markdown",
   "metadata": {
    "id": "0wV8M-lomHjs"
   },
   "source": [
    "<a id=\"lib\"></a>\n",
    "# 1. Import Libraries"
   ]
  },
  {
   "cell_type": "markdown",
   "metadata": {
    "id": "HF5D3CqhmHjs"
   },
   "source": [
    "**Let us import the required libraries.**"
   ]
  },
  {
   "cell_type": "code",
   "execution_count": 1,
   "metadata": {
    "id": "7Y2AHmx-mHjt"
   },
   "outputs": [
    {
     "name": "stderr",
     "output_type": "stream",
     "text": [
      "C:\\Users\\vssha\\anaconda3\\lib\\site-packages\\scipy\\__init__.py:155: UserWarning: A NumPy version >=1.18.5 and <1.25.0 is required for this version of SciPy (detected version 1.25.2\n",
      "  warnings.warn(f\"A NumPy version >={np_minversion} and <{np_maxversion}\"\n"
     ]
    }
   ],
   "source": [
    "import pandas as pd\n",
    "import re\n",
    "from bs4 import BeautifulSoup\n",
    "import spacy\n",
    "import nltk\n",
    "from nltk.stem import PorterStemmer\n",
    "from sklearn.feature_extraction.text import CountVectorizer\n",
    "from sklearn.feature_extraction.text import TfidfVectorizer\n",
    "\n",
    "from sklearn.model_selection import train_test_split\n",
    "from sklearn.ensemble import RandomForestClassifier\n",
    "from sklearn.naive_bayes import MultinomialNB\n",
    "from sklearn.svm import SVC\n",
    "from sklearn.metrics import accuracy_score, classification_report, confusion_matrix\n",
    "\n",
    "import warnings\n",
    "warnings.filterwarnings(\"ignore\")"
   ]
  },
  {
   "cell_type": "markdown",
   "metadata": {
    "id": "0Cbu-UrzzpJg"
   },
   "source": [
    "2. Load the Data"
   ]
  },
  {
   "cell_type": "markdown",
   "metadata": {
    "id": "V6-Vk7n6z8X-"
   },
   "source": [
    "2.1 Read the data"
   ]
  },
  {
   "cell_type": "code",
   "execution_count": 2,
   "metadata": {},
   "outputs": [],
   "source": [
    "company_review = pd.read_csv(\"sentiment_analysis.csv\",encoding='ANSI')"
   ]
  },
  {
   "cell_type": "markdown",
   "metadata": {},
   "source": [
    "<font color='blue'>We are using a encoding to read the document without any errors.</font> \n"
   ]
  },
  {
   "cell_type": "markdown",
   "metadata": {
    "id": "9c77n7WMz_o9"
   },
   "source": [
    "2.2 Dispay the first ten rows"
   ]
  },
  {
   "cell_type": "code",
   "execution_count": 3,
   "metadata": {
    "id": "6ikzUby10TaB"
   },
   "outputs": [
    {
     "data": {
      "text/html": [
       "<div>\n",
       "<style scoped>\n",
       "    .dataframe tbody tr th:only-of-type {\n",
       "        vertical-align: middle;\n",
       "    }\n",
       "\n",
       "    .dataframe tbody tr th {\n",
       "        vertical-align: top;\n",
       "    }\n",
       "\n",
       "    .dataframe thead th {\n",
       "        text-align: right;\n",
       "    }\n",
       "</style>\n",
       "<table border=\"1\" class=\"dataframe\">\n",
       "  <thead>\n",
       "    <tr style=\"text-align: right;\">\n",
       "      <th></th>\n",
       "      <th>Sentiment</th>\n",
       "      <th>Review</th>\n",
       "    </tr>\n",
       "  </thead>\n",
       "  <tbody>\n",
       "    <tr>\n",
       "      <th>0</th>\n",
       "      <td>negative</td>\n",
       "      <td>The international electronic industry company ...</td>\n",
       "    </tr>\n",
       "    <tr>\n",
       "      <th>1</th>\n",
       "      <td>positive</td>\n",
       "      <td>With the new production plant the company woul...</td>\n",
       "    </tr>\n",
       "    <tr>\n",
       "      <th>2</th>\n",
       "      <td>positive</td>\n",
       "      <td>According to the company 's updated strategy f...</td>\n",
       "    </tr>\n",
       "    <tr>\n",
       "      <th>3</th>\n",
       "      <td>positive</td>\n",
       "      <td>FINANCING OF ASPOCOMP 'S GROWTH Aspocomp is ag...</td>\n",
       "    </tr>\n",
       "    <tr>\n",
       "      <th>4</th>\n",
       "      <td>positive</td>\n",
       "      <td>For the last quarter of 2010 , Componenta 's n...</td>\n",
       "    </tr>\n",
       "    <tr>\n",
       "      <th>5</th>\n",
       "      <td>positive</td>\n",
       "      <td>In the third quarter of 2010 , net sales incre...</td>\n",
       "    </tr>\n",
       "    <tr>\n",
       "      <th>6</th>\n",
       "      <td>positive</td>\n",
       "      <td>Operating profit rose to EUR 13.1 mn from EUR ...</td>\n",
       "    </tr>\n",
       "    <tr>\n",
       "      <th>7</th>\n",
       "      <td>positive</td>\n",
       "      <td>Operating profit totalled EUR 21.1 mn , up fro...</td>\n",
       "    </tr>\n",
       "    <tr>\n",
       "      <th>8</th>\n",
       "      <td>positive</td>\n",
       "      <td>TeliaSonera TLSN said the offer is in line wit...</td>\n",
       "    </tr>\n",
       "    <tr>\n",
       "      <th>9</th>\n",
       "      <td>positive</td>\n",
       "      <td>STORA ENSO , NORSKE SKOG , M-REAL , UPM-KYMMEN...</td>\n",
       "    </tr>\n",
       "  </tbody>\n",
       "</table>\n",
       "</div>"
      ],
      "text/plain": [
       "  Sentiment                                             Review\n",
       "0  negative  The international electronic industry company ...\n",
       "1  positive  With the new production plant the company woul...\n",
       "2  positive  According to the company 's updated strategy f...\n",
       "3  positive  FINANCING OF ASPOCOMP 'S GROWTH Aspocomp is ag...\n",
       "4  positive  For the last quarter of 2010 , Componenta 's n...\n",
       "5  positive  In the third quarter of 2010 , net sales incre...\n",
       "6  positive  Operating profit rose to EUR 13.1 mn from EUR ...\n",
       "7  positive  Operating profit totalled EUR 21.1 mn , up fro...\n",
       "8  positive  TeliaSonera TLSN said the offer is in line wit...\n",
       "9  positive  STORA ENSO , NORSKE SKOG , M-REAL , UPM-KYMMEN..."
      ]
     },
     "execution_count": 3,
     "metadata": {},
     "output_type": "execute_result"
    }
   ],
   "source": [
    "company_review.head(10)"
   ]
  },
  {
   "cell_type": "markdown",
   "metadata": {},
   "source": [
    "<font color='blue'>From the above we can see that this is a review and sentiment analysis of a company or a industry and most of them focus about the growth.It has positive and negative sentiments.</font> "
   ]
  },
  {
   "cell_type": "markdown",
   "metadata": {
    "id": "dwlaQfbA0FtG"
   },
   "source": [
    "2.3 Display the information about the data"
   ]
  },
  {
   "cell_type": "code",
   "execution_count": 4,
   "metadata": {
    "id": "as7IjoItz1Px"
   },
   "outputs": [
    {
     "name": "stdout",
     "output_type": "stream",
     "text": [
      "<class 'pandas.core.frame.DataFrame'>\n",
      "RangeIndex: 1967 entries, 0 to 1966\n",
      "Data columns (total 2 columns):\n",
      " #   Column     Non-Null Count  Dtype \n",
      "---  ------     --------------  ----- \n",
      " 0   Sentiment  1967 non-null   object\n",
      " 1   Review     1967 non-null   object\n",
      "dtypes: object(2)\n",
      "memory usage: 30.9+ KB\n"
     ]
    }
   ],
   "source": [
    "company_review.info()"
   ]
  },
  {
   "cell_type": "markdown",
   "metadata": {},
   "source": [
    "<font color='blue'>There are 1967 records in the table and there are no null values in both sentiment and review.</font> "
   ]
  },
  {
   "cell_type": "code",
   "execution_count": 5,
   "metadata": {},
   "outputs": [
    {
     "data": {
      "text/html": [
       "<div>\n",
       "<style scoped>\n",
       "    .dataframe tbody tr th:only-of-type {\n",
       "        vertical-align: middle;\n",
       "    }\n",
       "\n",
       "    .dataframe tbody tr th {\n",
       "        vertical-align: top;\n",
       "    }\n",
       "\n",
       "    .dataframe thead th {\n",
       "        text-align: right;\n",
       "    }\n",
       "</style>\n",
       "<table border=\"1\" class=\"dataframe\">\n",
       "  <thead>\n",
       "    <tr style=\"text-align: right;\">\n",
       "      <th></th>\n",
       "      <th>Sentiment</th>\n",
       "      <th>Review</th>\n",
       "    </tr>\n",
       "  </thead>\n",
       "  <tbody>\n",
       "    <tr>\n",
       "      <th>count</th>\n",
       "      <td>1967</td>\n",
       "      <td>1967</td>\n",
       "    </tr>\n",
       "    <tr>\n",
       "      <th>unique</th>\n",
       "      <td>2</td>\n",
       "      <td>1967</td>\n",
       "    </tr>\n",
       "    <tr>\n",
       "      <th>top</th>\n",
       "      <td>positive</td>\n",
       "      <td>The international electronic industry company ...</td>\n",
       "    </tr>\n",
       "    <tr>\n",
       "      <th>freq</th>\n",
       "      <td>1363</td>\n",
       "      <td>1</td>\n",
       "    </tr>\n",
       "  </tbody>\n",
       "</table>\n",
       "</div>"
      ],
      "text/plain": [
       "       Sentiment                                             Review\n",
       "count       1967                                               1967\n",
       "unique         2                                               1967\n",
       "top     positive  The international electronic industry company ...\n",
       "freq        1363                                                  1"
      ]
     },
     "execution_count": 5,
     "metadata": {},
     "output_type": "execute_result"
    }
   ],
   "source": [
    "company_review.describe()"
   ]
  },
  {
   "cell_type": "markdown",
   "metadata": {
    "id": "lw4qNA-p0JfW"
   },
   "source": [
    "2.4   Encode the sentiment column values as 1 or 0"
   ]
  },
  {
   "cell_type": "code",
   "execution_count": 6,
   "metadata": {
    "id": "9dYvIFp6z1gW"
   },
   "outputs": [],
   "source": [
    "company_review[\"Sentiment\"].replace({\"negative\":1, \"positive\":0}, inplace=True)"
   ]
  },
  {
   "attachments": {},
   "cell_type": "markdown",
   "metadata": {},
   "source": [
    "<font color='blue'>here we are label encoding positive and negative review negative becomes 1 and positive is 0.</font> "
   ]
  },
  {
   "cell_type": "code",
   "execution_count": 7,
   "metadata": {},
   "outputs": [
    {
     "data": {
      "text/html": [
       "<div>\n",
       "<style scoped>\n",
       "    .dataframe tbody tr th:only-of-type {\n",
       "        vertical-align: middle;\n",
       "    }\n",
       "\n",
       "    .dataframe tbody tr th {\n",
       "        vertical-align: top;\n",
       "    }\n",
       "\n",
       "    .dataframe thead th {\n",
       "        text-align: right;\n",
       "    }\n",
       "</style>\n",
       "<table border=\"1\" class=\"dataframe\">\n",
       "  <thead>\n",
       "    <tr style=\"text-align: right;\">\n",
       "      <th></th>\n",
       "      <th>Sentiment</th>\n",
       "      <th>Review</th>\n",
       "    </tr>\n",
       "  </thead>\n",
       "  <tbody>\n",
       "    <tr>\n",
       "      <th>0</th>\n",
       "      <td>1</td>\n",
       "      <td>The international electronic industry company ...</td>\n",
       "    </tr>\n",
       "    <tr>\n",
       "      <th>1</th>\n",
       "      <td>0</td>\n",
       "      <td>With the new production plant the company woul...</td>\n",
       "    </tr>\n",
       "    <tr>\n",
       "      <th>2</th>\n",
       "      <td>0</td>\n",
       "      <td>According to the company 's updated strategy f...</td>\n",
       "    </tr>\n",
       "    <tr>\n",
       "      <th>3</th>\n",
       "      <td>0</td>\n",
       "      <td>FINANCING OF ASPOCOMP 'S GROWTH Aspocomp is ag...</td>\n",
       "    </tr>\n",
       "    <tr>\n",
       "      <th>4</th>\n",
       "      <td>0</td>\n",
       "      <td>For the last quarter of 2010 , Componenta 's n...</td>\n",
       "    </tr>\n",
       "  </tbody>\n",
       "</table>\n",
       "</div>"
      ],
      "text/plain": [
       "   Sentiment                                             Review\n",
       "0          1  The international electronic industry company ...\n",
       "1          0  With the new production plant the company woul...\n",
       "2          0  According to the company 's updated strategy f...\n",
       "3          0  FINANCING OF ASPOCOMP 'S GROWTH Aspocomp is ag...\n",
       "4          0  For the last quarter of 2010 , Componenta 's n..."
      ]
     },
     "execution_count": 7,
     "metadata": {},
     "output_type": "execute_result"
    }
   ],
   "source": [
    "company_review.head()"
   ]
  },
  {
   "cell_type": "markdown",
   "metadata": {
    "id": "riUOzf5-0rvK"
   },
   "source": [
    "3.  Data preprocessing"
   ]
  },
  {
   "cell_type": "markdown",
   "metadata": {
    "id": "NwWFwlWe0u30"
   },
   "source": [
    "3.1 Remove special characters and html tags"
   ]
  },
  {
   "cell_type": "code",
   "execution_count": 8,
   "metadata": {
    "id": "Z0nOjVZTz1rv"
   },
   "outputs": [],
   "source": [
    "def remove_htmltags_specialcharacters(text):\n",
    "    soup = BeautifulSoup(text, \"html.parser\")\n",
    "    clean_text = soup.get_text()\n",
    "    clean_text = re.sub(r'[^A-Za-z0-9\\s]+', '', clean_text)\n",
    "    return clean_text"
   ]
  },
  {
   "cell_type": "code",
   "execution_count": 9,
   "metadata": {},
   "outputs": [
    {
     "data": {
      "text/html": [
       "<div>\n",
       "<style scoped>\n",
       "    .dataframe tbody tr th:only-of-type {\n",
       "        vertical-align: middle;\n",
       "    }\n",
       "\n",
       "    .dataframe tbody tr th {\n",
       "        vertical-align: top;\n",
       "    }\n",
       "\n",
       "    .dataframe thead th {\n",
       "        text-align: right;\n",
       "    }\n",
       "</style>\n",
       "<table border=\"1\" class=\"dataframe\">\n",
       "  <thead>\n",
       "    <tr style=\"text-align: right;\">\n",
       "      <th></th>\n",
       "      <th>Sentiment</th>\n",
       "      <th>Review</th>\n",
       "      <th>Cleaned_Review</th>\n",
       "    </tr>\n",
       "  </thead>\n",
       "  <tbody>\n",
       "    <tr>\n",
       "      <th>0</th>\n",
       "      <td>1</td>\n",
       "      <td>The international electronic industry company ...</td>\n",
       "      <td>The international electronic industry company ...</td>\n",
       "    </tr>\n",
       "    <tr>\n",
       "      <th>1</th>\n",
       "      <td>0</td>\n",
       "      <td>With the new production plant the company woul...</td>\n",
       "      <td>With the new production plant the company woul...</td>\n",
       "    </tr>\n",
       "    <tr>\n",
       "      <th>2</th>\n",
       "      <td>0</td>\n",
       "      <td>According to the company 's updated strategy f...</td>\n",
       "      <td>According to the company s updated strategy fo...</td>\n",
       "    </tr>\n",
       "    <tr>\n",
       "      <th>3</th>\n",
       "      <td>0</td>\n",
       "      <td>FINANCING OF ASPOCOMP 'S GROWTH Aspocomp is ag...</td>\n",
       "      <td>FINANCING OF ASPOCOMP S GROWTH Aspocomp is agg...</td>\n",
       "    </tr>\n",
       "    <tr>\n",
       "      <th>4</th>\n",
       "      <td>0</td>\n",
       "      <td>For the last quarter of 2010 , Componenta 's n...</td>\n",
       "      <td>For the last quarter of 2010  Componenta s net...</td>\n",
       "    </tr>\n",
       "  </tbody>\n",
       "</table>\n",
       "</div>"
      ],
      "text/plain": [
       "   Sentiment                                             Review  \\\n",
       "0          1  The international electronic industry company ...   \n",
       "1          0  With the new production plant the company woul...   \n",
       "2          0  According to the company 's updated strategy f...   \n",
       "3          0  FINANCING OF ASPOCOMP 'S GROWTH Aspocomp is ag...   \n",
       "4          0  For the last quarter of 2010 , Componenta 's n...   \n",
       "\n",
       "                                      Cleaned_Review  \n",
       "0  The international electronic industry company ...  \n",
       "1  With the new production plant the company woul...  \n",
       "2  According to the company s updated strategy fo...  \n",
       "3  FINANCING OF ASPOCOMP S GROWTH Aspocomp is agg...  \n",
       "4  For the last quarter of 2010  Componenta s net...  "
      ]
     },
     "execution_count": 9,
     "metadata": {},
     "output_type": "execute_result"
    }
   ],
   "source": [
    "company_review['Cleaned_Review'] = company_review['Review'].apply(remove_htmltags_specialcharacters)\n",
    "company_review.head()"
   ]
  },
  {
   "cell_type": "markdown",
   "metadata": {},
   "source": [
    "<font color='blue'>The reason to hold ansi encoding is to retain special characters that can be now cleaned by this process.</font> "
   ]
  },
  {
   "cell_type": "markdown",
   "metadata": {
    "id": "Q77N0hdq01i3"
   },
   "source": [
    "3.2 - Convert reviews into lowercase"
   ]
  },
  {
   "cell_type": "code",
   "execution_count": 10,
   "metadata": {
    "id": "GQS9y4zF0m7d"
   },
   "outputs": [],
   "source": [
    "def lower_text(text):\n",
    "    lower_text = text.lower()\n",
    "    return lower_text"
   ]
  },
  {
   "cell_type": "code",
   "execution_count": 11,
   "metadata": {},
   "outputs": [
    {
     "data": {
      "text/html": [
       "<div>\n",
       "<style scoped>\n",
       "    .dataframe tbody tr th:only-of-type {\n",
       "        vertical-align: middle;\n",
       "    }\n",
       "\n",
       "    .dataframe tbody tr th {\n",
       "        vertical-align: top;\n",
       "    }\n",
       "\n",
       "    .dataframe thead th {\n",
       "        text-align: right;\n",
       "    }\n",
       "</style>\n",
       "<table border=\"1\" class=\"dataframe\">\n",
       "  <thead>\n",
       "    <tr style=\"text-align: right;\">\n",
       "      <th></th>\n",
       "      <th>Sentiment</th>\n",
       "      <th>Review</th>\n",
       "      <th>Cleaned_Review</th>\n",
       "    </tr>\n",
       "  </thead>\n",
       "  <tbody>\n",
       "    <tr>\n",
       "      <th>0</th>\n",
       "      <td>1</td>\n",
       "      <td>The international electronic industry company ...</td>\n",
       "      <td>the international electronic industry company ...</td>\n",
       "    </tr>\n",
       "    <tr>\n",
       "      <th>1</th>\n",
       "      <td>0</td>\n",
       "      <td>With the new production plant the company woul...</td>\n",
       "      <td>with the new production plant the company woul...</td>\n",
       "    </tr>\n",
       "    <tr>\n",
       "      <th>2</th>\n",
       "      <td>0</td>\n",
       "      <td>According to the company 's updated strategy f...</td>\n",
       "      <td>according to the company s updated strategy fo...</td>\n",
       "    </tr>\n",
       "    <tr>\n",
       "      <th>3</th>\n",
       "      <td>0</td>\n",
       "      <td>FINANCING OF ASPOCOMP 'S GROWTH Aspocomp is ag...</td>\n",
       "      <td>financing of aspocomp s growth aspocomp is agg...</td>\n",
       "    </tr>\n",
       "    <tr>\n",
       "      <th>4</th>\n",
       "      <td>0</td>\n",
       "      <td>For the last quarter of 2010 , Componenta 's n...</td>\n",
       "      <td>for the last quarter of 2010  componenta s net...</td>\n",
       "    </tr>\n",
       "  </tbody>\n",
       "</table>\n",
       "</div>"
      ],
      "text/plain": [
       "   Sentiment                                             Review  \\\n",
       "0          1  The international electronic industry company ...   \n",
       "1          0  With the new production plant the company woul...   \n",
       "2          0  According to the company 's updated strategy f...   \n",
       "3          0  FINANCING OF ASPOCOMP 'S GROWTH Aspocomp is ag...   \n",
       "4          0  For the last quarter of 2010 , Componenta 's n...   \n",
       "\n",
       "                                      Cleaned_Review  \n",
       "0  the international electronic industry company ...  \n",
       "1  with the new production plant the company woul...  \n",
       "2  according to the company s updated strategy fo...  \n",
       "3  financing of aspocomp s growth aspocomp is agg...  \n",
       "4  for the last quarter of 2010  componenta s net...  "
      ]
     },
     "execution_count": 11,
     "metadata": {},
     "output_type": "execute_result"
    }
   ],
   "source": [
    "company_review['Cleaned_Review'] = company_review['Cleaned_Review'].apply(lower_text)\n",
    "company_review.head()"
   ]
  },
  {
   "cell_type": "markdown",
   "metadata": {
    "id": "s4yqhrRo06vs"
   },
   "source": [
    "3.3 - Removal of stop words"
   ]
  },
  {
   "cell_type": "code",
   "execution_count": 12,
   "metadata": {},
   "outputs": [],
   "source": [
    "nlp = spacy.load(\"en_core_web_lg\")\n",
    "\n",
    "def remove_stopwords(text):\n",
    "    doc = nlp(text)\n",
    "    filtered_text = [token.text for token in doc if not token.is_stop]\n",
    "    return ' '.join(filtered_text)"
   ]
  },
  {
   "cell_type": "code",
   "execution_count": 13,
   "metadata": {},
   "outputs": [
    {
     "data": {
      "text/html": [
       "<div>\n",
       "<style scoped>\n",
       "    .dataframe tbody tr th:only-of-type {\n",
       "        vertical-align: middle;\n",
       "    }\n",
       "\n",
       "    .dataframe tbody tr th {\n",
       "        vertical-align: top;\n",
       "    }\n",
       "\n",
       "    .dataframe thead th {\n",
       "        text-align: right;\n",
       "    }\n",
       "</style>\n",
       "<table border=\"1\" class=\"dataframe\">\n",
       "  <thead>\n",
       "    <tr style=\"text-align: right;\">\n",
       "      <th></th>\n",
       "      <th>Sentiment</th>\n",
       "      <th>Review</th>\n",
       "      <th>Cleaned_Review</th>\n",
       "    </tr>\n",
       "  </thead>\n",
       "  <tbody>\n",
       "    <tr>\n",
       "      <th>0</th>\n",
       "      <td>1</td>\n",
       "      <td>The international electronic industry company ...</td>\n",
       "      <td>international electronic industry company elco...</td>\n",
       "    </tr>\n",
       "    <tr>\n",
       "      <th>1</th>\n",
       "      <td>0</td>\n",
       "      <td>With the new production plant the company woul...</td>\n",
       "      <td>new production plant company increase capacity...</td>\n",
       "    </tr>\n",
       "    <tr>\n",
       "      <th>2</th>\n",
       "      <td>0</td>\n",
       "      <td>According to the company 's updated strategy f...</td>\n",
       "      <td>according company s updated strategy years 200...</td>\n",
       "    </tr>\n",
       "    <tr>\n",
       "      <th>3</th>\n",
       "      <td>0</td>\n",
       "      <td>FINANCING OF ASPOCOMP 'S GROWTH Aspocomp is ag...</td>\n",
       "      <td>financing aspocomp s growth aspocomp aggressiv...</td>\n",
       "    </tr>\n",
       "    <tr>\n",
       "      <th>4</th>\n",
       "      <td>0</td>\n",
       "      <td>For the last quarter of 2010 , Componenta 's n...</td>\n",
       "      <td>quarter 2010   componenta s net sales doubled ...</td>\n",
       "    </tr>\n",
       "  </tbody>\n",
       "</table>\n",
       "</div>"
      ],
      "text/plain": [
       "   Sentiment                                             Review  \\\n",
       "0          1  The international electronic industry company ...   \n",
       "1          0  With the new production plant the company woul...   \n",
       "2          0  According to the company 's updated strategy f...   \n",
       "3          0  FINANCING OF ASPOCOMP 'S GROWTH Aspocomp is ag...   \n",
       "4          0  For the last quarter of 2010 , Componenta 's n...   \n",
       "\n",
       "                                      Cleaned_Review  \n",
       "0  international electronic industry company elco...  \n",
       "1  new production plant company increase capacity...  \n",
       "2  according company s updated strategy years 200...  \n",
       "3  financing aspocomp s growth aspocomp aggressiv...  \n",
       "4  quarter 2010   componenta s net sales doubled ...  "
      ]
     },
     "execution_count": 13,
     "metadata": {},
     "output_type": "execute_result"
    }
   ],
   "source": [
    "company_review['Cleaned_Review'] = company_review['Cleaned_Review'].apply(remove_stopwords)\n",
    "company_review.head()"
   ]
  },
  {
   "cell_type": "markdown",
   "metadata": {},
   "source": [
    "<font color='blue'>we are now removing all the stop word present in the cleaned dataset and overwriting the same so that we can improve our prediction rate .</font> "
   ]
  },
  {
   "cell_type": "markdown",
   "metadata": {
    "id": "0nBGJIM50_jy"
   },
   "source": [
    "3.4 - Apply stemming"
   ]
  },
  {
   "cell_type": "code",
   "execution_count": 14,
   "metadata": {},
   "outputs": [],
   "source": [
    "def stem_text(text):\n",
    "    stemmer = PorterStemmer()\n",
    "    tokens = nltk.word_tokenize(text)\n",
    "    stemmed_tokens = [stemmer.stem(token) for token in tokens]\n",
    "    return ' '.join(stemmed_tokens)"
   ]
  },
  {
   "cell_type": "code",
   "execution_count": 15,
   "metadata": {},
   "outputs": [
    {
     "data": {
      "text/html": [
       "<div>\n",
       "<style scoped>\n",
       "    .dataframe tbody tr th:only-of-type {\n",
       "        vertical-align: middle;\n",
       "    }\n",
       "\n",
       "    .dataframe tbody tr th {\n",
       "        vertical-align: top;\n",
       "    }\n",
       "\n",
       "    .dataframe thead th {\n",
       "        text-align: right;\n",
       "    }\n",
       "</style>\n",
       "<table border=\"1\" class=\"dataframe\">\n",
       "  <thead>\n",
       "    <tr style=\"text-align: right;\">\n",
       "      <th></th>\n",
       "      <th>Sentiment</th>\n",
       "      <th>Review</th>\n",
       "      <th>Cleaned_Review</th>\n",
       "    </tr>\n",
       "  </thead>\n",
       "  <tbody>\n",
       "    <tr>\n",
       "      <th>0</th>\n",
       "      <td>1</td>\n",
       "      <td>The international electronic industry company ...</td>\n",
       "      <td>intern electron industri compani elcoteq laid ...</td>\n",
       "    </tr>\n",
       "    <tr>\n",
       "      <th>1</th>\n",
       "      <td>0</td>\n",
       "      <td>With the new production plant the company woul...</td>\n",
       "      <td>new product plant compani increas capac meet e...</td>\n",
       "    </tr>\n",
       "    <tr>\n",
       "      <th>2</th>\n",
       "      <td>0</td>\n",
       "      <td>According to the company 's updated strategy f...</td>\n",
       "      <td>accord compani s updat strategi year 20092012 ...</td>\n",
       "    </tr>\n",
       "    <tr>\n",
       "      <th>3</th>\n",
       "      <td>0</td>\n",
       "      <td>FINANCING OF ASPOCOMP 'S GROWTH Aspocomp is ag...</td>\n",
       "      <td>financ aspocomp s growth aspocomp aggress purs...</td>\n",
       "    </tr>\n",
       "    <tr>\n",
       "      <th>4</th>\n",
       "      <td>0</td>\n",
       "      <td>For the last quarter of 2010 , Componenta 's n...</td>\n",
       "      <td>quarter 2010 componenta s net sale doubl eur13...</td>\n",
       "    </tr>\n",
       "  </tbody>\n",
       "</table>\n",
       "</div>"
      ],
      "text/plain": [
       "   Sentiment                                             Review  \\\n",
       "0          1  The international electronic industry company ...   \n",
       "1          0  With the new production plant the company woul...   \n",
       "2          0  According to the company 's updated strategy f...   \n",
       "3          0  FINANCING OF ASPOCOMP 'S GROWTH Aspocomp is ag...   \n",
       "4          0  For the last quarter of 2010 , Componenta 's n...   \n",
       "\n",
       "                                      Cleaned_Review  \n",
       "0  intern electron industri compani elcoteq laid ...  \n",
       "1  new product plant compani increas capac meet e...  \n",
       "2  accord compani s updat strategi year 20092012 ...  \n",
       "3  financ aspocomp s growth aspocomp aggress purs...  \n",
       "4  quarter 2010 componenta s net sale doubl eur13...  "
      ]
     },
     "execution_count": 15,
     "metadata": {},
     "output_type": "execute_result"
    }
   ],
   "source": [
    "company_review['Cleaned_Review'] = company_review['Cleaned_Review'].apply(stem_text)\n",
    "company_review.head()"
   ]
  },
  {
   "cell_type": "markdown",
   "metadata": {},
   "source": [
    "<font color='blue'>Stemming cutts the word to its root word and makes the predictablity more easier it becomes easier to implement Bag of words and TF-IDF for making train test split.</font> <font color='red'> in our case we have not done lemmatization but it is also important to do lemmatization</font>"
   ]
  },
  {
   "cell_type": "code",
   "execution_count": 16,
   "metadata": {},
   "outputs": [],
   "source": [
    "def preprocess_text(text):\n",
    "    # Remove HTML tags and Special characters\n",
    "    clean_text = remove_htmltags_specialcharacters(text)\n",
    "   \n",
    "    # Convert to lowercase\n",
    "    clean_text = lower_text(clean_text)\n",
    "    \n",
    "    # Remove Stop words\n",
    "    clean_text = remove_stopwords(clean_text)\n",
    "    \n",
    "    # Apply Stemming\n",
    "    clean_text = stem_text(clean_text)\n",
    "    \n",
    "    return clean_text"
   ]
  },
  {
   "cell_type": "markdown",
   "metadata": {
    "id": "mGrTE65k1DrN"
   },
   "source": [
    "4.  Convert review text into feature vector and classification"
   ]
  },
  {
   "cell_type": "markdown",
   "metadata": {
    "id": "GrPSrWZH1Wlk"
   },
   "source": [
    "4.1 - create BOW model "
   ]
  },
  {
   "cell_type": "code",
   "execution_count": 17,
   "metadata": {},
   "outputs": [],
   "source": [
    "cv = CountVectorizer()\n",
    "X = cv.fit_transform(company_review['Cleaned_Review']).toarray()"
   ]
  },
  {
   "cell_type": "code",
   "execution_count": 18,
   "metadata": {},
   "outputs": [
    {
     "data": {
      "text/plain": [
       "array([[0, 0, 0, ..., 0, 0, 0],\n",
       "       [0, 0, 0, ..., 0, 0, 0],\n",
       "       [0, 0, 0, ..., 0, 0, 0],\n",
       "       ...,\n",
       "       [0, 0, 0, ..., 0, 0, 0],\n",
       "       [0, 0, 0, ..., 0, 0, 0],\n",
       "       [0, 0, 0, ..., 0, 0, 0]], dtype=int64)"
      ]
     },
     "execution_count": 18,
     "metadata": {},
     "output_type": "execute_result"
    }
   ],
   "source": [
    "X"
   ]
  },
  {
   "cell_type": "markdown",
   "metadata": {},
   "source": [
    "<font color=\"blue\">here the word by word frequency is made as an array and this is uesd to predict our model</font>"
   ]
  },
  {
   "cell_type": "code",
   "execution_count": 19,
   "metadata": {},
   "outputs": [
    {
     "data": {
      "text/plain": [
       "0       1\n",
       "1       0\n",
       "2       0\n",
       "3       0\n",
       "4       0\n",
       "       ..\n",
       "1962    1\n",
       "1963    1\n",
       "1964    1\n",
       "1965    1\n",
       "1966    1\n",
       "Name: Sentiment, Length: 1967, dtype: int64"
      ]
     },
     "execution_count": 19,
     "metadata": {},
     "output_type": "execute_result"
    }
   ],
   "source": [
    "y = company_review['Sentiment']\n",
    "y"
   ]
  },
  {
   "cell_type": "markdown",
   "metadata": {
    "id": "FQoRL8FO1auR"
   },
   "source": [
    "4.2 - Training data and Test data -split"
   ]
  },
  {
   "cell_type": "code",
   "execution_count": 20,
   "metadata": {
    "id": "EBCsPsUr1eD8"
   },
   "outputs": [],
   "source": [
    "X_train, X_test, y_train, y_test = train_test_split(X, y, test_size = 0.3, random_state = 10)"
   ]
  },
  {
   "cell_type": "code",
   "execution_count": 21,
   "metadata": {},
   "outputs": [
    {
     "data": {
      "text/plain": [
       "(1376, 591)"
      ]
     },
     "execution_count": 21,
     "metadata": {},
     "output_type": "execute_result"
    }
   ],
   "source": [
    "len(X_train), len(X_test)"
   ]
  },
  {
   "cell_type": "code",
   "execution_count": 22,
   "metadata": {},
   "outputs": [
    {
     "data": {
      "text/plain": [
       "(1376, 591)"
      ]
     },
     "execution_count": 22,
     "metadata": {},
     "output_type": "execute_result"
    }
   ],
   "source": [
    "len(y_train), len(y_test)"
   ]
  },
  {
   "cell_type": "markdown",
   "metadata": {
    "id": "2hEad1Qn1epR"
   },
   "source": [
    "4.3 - Define the Classification model (any one like NB, SVM or Random forest) train the model"
   ]
  },
  {
   "cell_type": "code",
   "execution_count": 23,
   "metadata": {},
   "outputs": [
    {
     "data": {
      "text/plain": [
       "SVC(kernel='linear', random_state=42)"
      ]
     },
     "execution_count": 23,
     "metadata": {},
     "output_type": "execute_result"
    }
   ],
   "source": [
    "svm_classifier = SVC(kernel='linear', C=1.0, random_state=42)\n",
    "svm_classifier.fit(X_train, y_train)"
   ]
  },
  {
   "cell_type": "markdown",
   "metadata": {
    "id": "IUDSEr6I1kCh"
   },
   "source": [
    "4.4  Classification metrics analysis and plot the confusion matrix"
   ]
  },
  {
   "cell_type": "code",
   "execution_count": 24,
   "metadata": {},
   "outputs": [
    {
     "name": "stdout",
     "output_type": "stream",
     "text": [
      "Accuracy: 81.21827411167513\n",
      "Classification Report:\n",
      "               precision    recall  f1-score   support\n",
      "\n",
      "           0       0.87      0.86      0.86       410\n",
      "           1       0.69      0.71      0.70       181\n",
      "\n",
      "    accuracy                           0.81       591\n",
      "   macro avg       0.78      0.78      0.78       591\n",
      "weighted avg       0.81      0.81      0.81       591\n",
      "\n",
      "Confusion Matrix:\n",
      " [[352  58]\n",
      " [ 53 128]]\n"
     ]
    }
   ],
   "source": [
    "y_pred = svm_classifier.predict(X_test)\n",
    "\n",
    "accuracy = accuracy_score(y_test, y_pred)\n",
    "classification_rep = classification_report(y_test, y_pred)\n",
    "confusion_mat = confusion_matrix(y_test, y_pred)\n",
    "\n",
    "print(\"Accuracy:\", accuracy*100)\n",
    "print(\"Classification Report:\\n\", classification_rep)\n",
    "print(\"Confusion Matrix:\\n\", confusion_mat)"
   ]
  },
  {
   "cell_type": "markdown",
   "metadata": {},
   "source": [
    "### the model is correctly able to predict most of the inputs it is unable to classify certain postive and negative inputs due to hyperparameter tuning or some other preprocessing that needs to be done\n",
    "\n",
    "\n",
    "### For the preprocessing and current model that is used here we are getting a accuracy of 81.2%.which is an optimal accuracy"
   ]
  },
  {
   "cell_type": "markdown",
   "metadata": {
    "id": "fG118sNZ1tWW"
   },
   "source": [
    "4.5 - predict the class for your own review"
   ]
  },
  {
   "cell_type": "code",
   "execution_count": 25,
   "metadata": {},
   "outputs": [
    {
     "name": "stdout",
     "output_type": "stream",
     "text": [
      "redmi poco m2pro seri ton complaint overh issu bad batteri overal review bad sale decreas lot peopl return devic\n",
      "[[0 0 0 ... 0 0 0]]\n",
      "Predicted Sentiment Class for Your Review is Negative\n"
     ]
    }
   ],
   "source": [
    "your_review = \"The redmi poco m2Pro series have a ton of complaints, such as overheating issues, bad battery and the overall review is very bad. Their sales are decreasing a lot now, as people are returning the device.\"\n",
    "# Preprocess the review\n",
    "cleaned_review = preprocess_text(your_review)\n",
    "print(cleaned_review)\n",
    "\n",
    "# Vectorize the review using the same vectorizer\n",
    "your_review_vector = cv.transform([cleaned_review]).toarray()\n",
    "print(your_review_vector)\n",
    "\n",
    "# Predict the sentiment class\n",
    "predicted_class = svm_classifier.predict(your_review_vector)[0]\n",
    "\n",
    "if(predicted_class == 0):\n",
    "    print(\"Predicted Sentiment Class for Your Review is Positive\")\n",
    "else:\n",
    "    print(\"Predicted Sentiment Class for Your Review is Negative\")"
   ]
  },
  {
   "cell_type": "markdown",
   "metadata": {},
   "source": [
    "### The model has correctly predicted the negative review from the given input"
   ]
  },
  {
   "cell_type": "markdown",
   "metadata": {
    "id": "xgo2bgfUAnHz"
   },
   "source": [
    "4.6 - create feature vector using tf-idf"
   ]
  },
  {
   "cell_type": "code",
   "execution_count": 26,
   "metadata": {
    "id": "mAGiKUBrAob7"
   },
   "outputs": [],
   "source": [
    "# Creating the TFIDF model\n",
    "tv = TfidfVectorizer()\n",
    "X_tv = tv.fit_transform(company_review['Cleaned_Review']).toarray()"
   ]
  },
  {
   "cell_type": "code",
   "execution_count": 27,
   "metadata": {},
   "outputs": [],
   "source": [
    "X_train, X_test, y_train, y_test = train_test_split(X_tv, y, test_size = 0.3, random_state = 10)"
   ]
  },
  {
   "cell_type": "markdown",
   "metadata": {
    "id": "fTl7KxmzApGy"
   },
   "source": [
    "4.7 Define the Classification model (any one like NB, SVM or Random forest) train the model"
   ]
  },
  {
   "cell_type": "code",
   "execution_count": 28,
   "metadata": {},
   "outputs": [
    {
     "data": {
      "text/plain": [
       "SVC(kernel='linear', random_state=42)"
      ]
     },
     "execution_count": 28,
     "metadata": {},
     "output_type": "execute_result"
    }
   ],
   "source": [
    "svm_classifier01 = SVC(kernel='linear', C=1.0, random_state=42)\n",
    "svm_classifier01.fit(X_train, y_train)"
   ]
  },
  {
   "cell_type": "markdown",
   "metadata": {
    "id": "21o3UFWuAxCU"
   },
   "source": [
    "4.8 - Classification metrics analysis"
   ]
  },
  {
   "cell_type": "code",
   "execution_count": 29,
   "metadata": {
    "id": "P1g_cW8-A4jS"
   },
   "outputs": [
    {
     "name": "stdout",
     "output_type": "stream",
     "text": [
      "Accuracy: 84.4331641285956\n",
      "Classification Report:\n",
      "               precision    recall  f1-score   support\n",
      "\n",
      "           0       0.86      0.93      0.89       410\n",
      "           1       0.80      0.65      0.72       181\n",
      "\n",
      "    accuracy                           0.84       591\n",
      "   macro avg       0.83      0.79      0.81       591\n",
      "weighted avg       0.84      0.84      0.84       591\n",
      "\n",
      "Confusion Matrix:\n",
      " [[381  29]\n",
      " [ 63 118]]\n"
     ]
    }
   ],
   "source": [
    "y_pred = svm_classifier01.predict(X_test)\n",
    "\n",
    "accuracy = accuracy_score(y_test, y_pred)\n",
    "classification_rep = classification_report(y_test, y_pred)\n",
    "confusion_mat = confusion_matrix(y_test, y_pred)\n",
    "\n",
    "print(\"Accuracy:\", accuracy*100)\n",
    "print(\"Classification Report:\\n\", classification_rep)\n",
    "print(\"Confusion Matrix:\\n\", confusion_mat)"
   ]
  },
  {
   "cell_type": "markdown",
   "metadata": {},
   "source": [
    "### the model is now improving in accuracy and has reduced the misclassification.\n",
    "\n",
    "### For the preprocessing and current model that is used here we are getting a accuracy of 84.4%.which is an optimal accuracy\n",
    "\n",
    "### To further improve the accuracy we can also include hyperparameter tuning and try different other models such as multinomial naive bayes,bernoulli Naive bayes"
   ]
  },
  {
   "cell_type": "markdown",
   "metadata": {
    "id": "-_4qT-lVA42c"
   },
   "source": [
    "4.9 - predict the class for your own review"
   ]
  },
  {
   "cell_type": "code",
   "execution_count": 30,
   "metadata": {
    "id": "OcCXMXZhA5g6"
   },
   "outputs": [
    {
     "name": "stdout",
     "output_type": "stream",
     "text": [
      "redmi poco m2pro seri ton complaint overh issu bad batteri overal review bad sale decreas lot peopl return devic sale increas peopl buy product afford\n",
      "Predicted Sentiment Class for Your Review is Positive\n"
     ]
    }
   ],
   "source": [
    "# Your own review\n",
    "your_review = \"The redmi poco m2Pro series have a ton of complaints, such as overheating issues, bad battery and the overall review is very bad. Their sales are decreasing a lot now, as people are returning the device. Still their sales are increasing, as more and more people are buying the product as its affordable\"\n",
    "# Preprocess the review\n",
    "cleaned_review = preprocess_text(your_review)\n",
    "print(cleaned_review)\n",
    "\n",
    "# Vectorize the review using the same vectorizer\n",
    "your_review_vector = tv.transform([cleaned_review]).toarray()\n",
    "# print(your_review_vector)\n",
    "\n",
    "# Predict the sentiment class\n",
    "predicted_class = svm_classifier01.predict(your_review_vector)[0]\n",
    "\n",
    "if(predicted_class == 0):\n",
    "    print(\"Predicted Sentiment Class for Your Review is Positive\")\n",
    "else:\n",
    "    print(\"Predicted Sentiment Class for Your Review is Negative\")"
   ]
  },
  {
   "cell_type": "markdown",
   "metadata": {},
   "source": [
    "### The model has correctly classified the positive review.Though this review falls to neutral side the model has learned mostly based on revenue. so it is classifying as a positive"
   ]
  },
  {
   "cell_type": "code",
   "execution_count": 31,
   "metadata": {},
   "outputs": [
    {
     "name": "stdout",
     "output_type": "stream",
     "text": [
      "redmi compani ton complaint overh issu bad batteri overal review bad sale decreas lot peopl return devic\n",
      "Predicted Sentiment Class for Your Review is Negative\n"
     ]
    }
   ],
   "source": [
    "your_review = \"The redmi company have ton of complaints, such as overheating issues, bad battery and the overall review is very bad. Their sales are decreasing a lot now, as people are returning the device\"\n",
    "\n",
    "# Preprocess the review\n",
    "cleaned_review = preprocess_text(your_review)\n",
    "print(cleaned_review)\n",
    "\n",
    "# Vectorize the review using the same vectorizer\n",
    "your_review_vector = tv.transform([cleaned_review]).toarray()\n",
    "# print(your_review_vector)\n",
    "\n",
    "# Predict the sentiment class\n",
    "predicted_class = svm_classifier01.predict(your_review_vector)[0]\n",
    "\n",
    "if(predicted_class == 0):\n",
    "    print(\"Predicted Sentiment Class for Your Review is Positive\")\n",
    "else:\n",
    "    print(\"Predicted Sentiment Class for Your Review is Negative\")"
   ]
  },
  {
   "cell_type": "markdown",
   "metadata": {},
   "source": [
    "### The model has correctly classified the negative review"
   ]
  },
  {
   "cell_type": "code",
   "execution_count": null,
   "metadata": {},
   "outputs": [],
   "source": []
  }
 ],
 "metadata": {
  "colab": {
   "provenance": [
    {
     "file_id": "18UWBv3Br72jn1pN9dlQaz4_uWpYg4oSj",
     "timestamp": 1679132470482
    },
    {
     "file_id": "11Whz9PBMyIm6ScAK1sUAuKZhlSwOIoIK",
     "timestamp": 1665466111274
    }
   ]
  },
  "kernelspec": {
   "display_name": "Python 3 (ipykernel)",
   "language": "python",
   "name": "python3"
  },
  "language_info": {
   "codemirror_mode": {
    "name": "ipython",
    "version": 3
   },
   "file_extension": ".py",
   "mimetype": "text/x-python",
   "name": "python",
   "nbconvert_exporter": "python",
   "pygments_lexer": "ipython3",
   "version": "3.12.2"
  }
 },
 "nbformat": 4,
 "nbformat_minor": 4
}
