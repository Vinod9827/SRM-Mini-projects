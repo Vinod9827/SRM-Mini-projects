{
 "cells": [
  {
   "cell_type": "markdown",
   "metadata": {},
   "source": [
    "<table align=\"center\" width=100%>\n",
    "    <tr>\n",
    "        <td width=\"15%\">\n",
    "            <img src=\"Great_Learning_Logo.jpg\">\n",
    "        </td>\n",
    "        <td>\n",
    "            <div align=\"center\">\n",
    "                <font color=\"#21618C\" size=6px>\n",
    "                    <b> Assignment 2 - Probability and Statistics <br>\n",
    "                    </b>\n",
    "                </font>\n",
    "            </div>\n",
    "        </td>\n",
    "    </tr>\n",
    "</table>"
   ]
  },
  {
   "cell_type": "markdown",
   "metadata": {},
   "source": [
    "## Give your Team Details\n",
    "\n",
    "### Group Number: 4\n",
    "\n",
    "### Team members:\n",
    "**1. Dinesh Subramanian**<br>\n",
    "**2. S.Aishwarya**<br>\n",
    "**3. Vinod A**"
   ]
  },
  {
   "cell_type": "markdown",
   "metadata": {},
   "source": [
    "##### Import the required Libararies "
   ]
  },
  {
   "cell_type": "markdown",
   "metadata": {},
   "source": [
    "Write the inference for all the questions"
   ]
  },
  {
   "cell_type": "code",
   "execution_count": 55,
   "metadata": {},
   "outputs": [],
   "source": [
    "import numpy as np\n",
    "import pandas as pd\n",
    "import scipy.stats as stat\n",
    "import matplotlib.pyplot as plt\n",
    "import seaborn as sns\n",
    "import warnings\n",
    "warnings.filterwarnings(\"ignore\")\n",
    "\n",
    "from statsmodels.stats import weightstats as test\n",
    "\n",
    "import math\n",
    "import statistics"
   ]
  },
  {
   "cell_type": "markdown",
   "metadata": {},
   "source": [
    "<span style=\"font-family: Arial; font-weight:bold;font-size:1.2em;\">In a library 50 books are selected at random.On an average 1 out of 10 books is a statistics book. . (5 marks)\n",
    "\n",
    "i) Probability of getting exactly 3 statistics book.\n",
    "\n",
    "ii) Probability of getting atleast 3 statistics book.\n",
    "\n",
    "iii) Probability of getting atmost 3 statistics book.\n",
    "\n",
    "iv) Probability of getting between 3 and 10 statistics book.\n",
    "\n",
    "v)  Plot the distribution graph.\n",
    "\n",
    "[Note: Think what kind of distribution equation we need to use to solve all the above questions]\n"
   ]
  },
  {
   "cell_type": "code",
   "execution_count": 56,
   "metadata": {},
   "outputs": [
    {
     "name": "stdout",
     "output_type": "stream",
     "text": [
      "Probability of getting exactly 3 statistics book :  0.1385651496069605\n"
     ]
    }
   ],
   "source": [
    "# i) Probability of getting exactly 3 statistics book.\n",
    "\n",
    "n = 50 # books\n",
    "x = 3 # exactly 3 statistics book.\n",
    "p = 0.1 # 1 out of 10 books is a statistics book.. \n",
    "# pmf- probability exactly at a point\n",
    "print(\"Probability of getting exactly 3 statistics book : \", stat.binom.pmf(x,n,p))"
   ]
  },
  {
   "cell_type": "markdown",
   "metadata": {},
   "source": [
    "###  INFERENCE:   <font color='green'> Probability of getting exactly 3 statistics books out of 50 books is 14%. </font>"
   ]
  },
  {
   "cell_type": "code",
   "execution_count": 57,
   "metadata": {},
   "outputs": [
    {
     "name": "stdout",
     "output_type": "stream",
     "text": [
      "Probability of getting atleast 3 statistics book. :  0.749706094046692\n"
     ]
    }
   ],
   "source": [
    "# ii) Probability of getting atleast 3 statistics book.\n",
    "\n",
    "n = 50 # books\n",
    "x = 3 # atleast 3 statistics book.\n",
    "p = 0.1 # 1 out of 10 books is a statistics book.. \n",
    "#cdf- cumulative distribution\n",
    "print(\"Probability of getting atleast 3 statistics book. : \",1- stat.binom.cdf(x,n,p))"
   ]
  },
  {
   "cell_type": "markdown",
   "metadata": {},
   "source": [
    "###  INFERENCE:   <font color='green'> Probability of getting atleast 3 statistics books out of 50 books is 75%. </font>"
   ]
  },
  {
   "cell_type": "code",
   "execution_count": 58,
   "metadata": {},
   "outputs": [
    {
     "name": "stdout",
     "output_type": "stream",
     "text": [
      " Probability of getting atmost 3 statistics book :  0.250293905953308\n"
     ]
    }
   ],
   "source": [
    "# iii) Probability of getting atmost 3 statistics book\n",
    "\n",
    "n = 50 # books\n",
    "x = 3 #  atmost 3 statistics book.\n",
    "p = 0.1 # 1 out of 10 books is a statistics book.. \n",
    "#cdf- cumulative distribution\n",
    "print(\" Probability of getting atmost 3 statistics book : \", stat.binom.cdf(x,n,p))"
   ]
  },
  {
   "cell_type": "markdown",
   "metadata": {},
   "source": [
    "###  INFERENCE:   <font color='green'> Probability of getting atmost 3 statistics books out of 50 books is 25%. </font>"
   ]
  },
  {
   "cell_type": "code",
   "execution_count": 59,
   "metadata": {},
   "outputs": [
    {
     "name": "stdout",
     "output_type": "stream",
     "text": [
      "Probability of getting between 3 and 10 statistics book :  0.7403514924593629\n"
     ]
    }
   ],
   "source": [
    "# iv) Probability of getting between 3 and 10 statistics book.\n",
    "\n",
    "n = 50 # books\n",
    "x ,y= 3,10 #  between 3 and 10 statistics book.\n",
    "p = 0.1 # 1 out of 10 books is a statistics book.. \n",
    "#cdf- cumulative distribution\n",
    "\n",
    "print(\"Probability of getting between 3 and 10 statistics book : \",stat.binom.cdf(y,n,p)- stat.binom.cdf(x,n,p))"
   ]
  },
  {
   "cell_type": "markdown",
   "metadata": {},
   "source": [
    "###  INFERENCE:   <font color='green'> Probability of getting between 3 to 10 statistics books out of 50 books is 74%. </font>"
   ]
  },
  {
   "cell_type": "code",
   "execution_count": 60,
   "metadata": {},
   "outputs": [
    {
     "data": {
      "image/png": "[encoded data removed]",
      "text/plain": [
       "<Figure size 432x288 with 1 Axes>"
      ]
     },
     "metadata": {
      "needs_background": "light"
     },
     "output_type": "display_data"
    }
   ],
   "source": [
    "# v) Plot the distribution graph\n",
    "n = 50 # books\n",
    "x = np.arange(1,51)\n",
    "p = 0.1 # 1 out of 10 books is a statistics book.. \n",
    "\n",
    "prob = stat.binom.pmf(x,n,p)\n",
    "plt.title(\"Plot the distribution graph\")\n",
    "plt.xlabel(\"Statistical book\")\n",
    "plt.plot(prob)\n",
    "plt.show()"
   ]
  },
  {
   "cell_type": "markdown",
   "metadata": {},
   "source": [
    "###  INFERENCE:   <font color='blue'> As the Statistics books are taken in random and have the possibility of having either success or failure. So, we are taking Binomial distribution to find the probablity</font>"
   ]
  },
  {
   "cell_type": "markdown",
   "metadata": {},
   "source": [
    "<span style=\"font-family: Arial; font-weight:bold;font-size:1.2em;\"> In a village, the average number of people affected by corona virus in a day is 5.(5 marks)\n",
    "\n",
    "Find the probability of the following:\n",
    "\n",
    "(i) exactly 2 persons suffer.\n",
    "\n",
    "(ii) atleast 2 persons suffer.\n",
    "\n",
    "(iii) atmost 2 persons suffer.\n",
    "\n",
    "(iv) between 2 and 5 persons suffer. \n",
    "\n",
    "(v ) Plot the Distribution\n",
    "    \n",
    "[Note: Think what kind of distribution equation we need to use to solve all the above questions]\n",
    "\n"
   ]
  },
  {
   "cell_type": "code",
   "execution_count": 61,
   "metadata": {},
   "outputs": [
    {
     "name": "stdout",
     "output_type": "stream",
     "text": [
      "Probability of exactly 2 persons suffer :  0.08422433748856832\n"
     ]
    }
   ],
   "source": [
    "# (i) exactly 2 persons suffer.\n",
    "\n",
    "x = 2 #exactly 2 persons\n",
    "l = 5 #the average number of people affected by corona virus in a day is 5.\n",
    "# pmf- probability exactly at a point\n",
    "\n",
    "print(\"Probability of exactly 2 persons suffer : \", stat.poisson.pmf(x,l))"
   ]
  },
  {
   "cell_type": "markdown",
   "metadata": {},
   "source": [
    "###  INFERENCE:   <font color='green'> Probability of exactly 2 people suffering with corona virus is 8.4%.</font>"
   ]
  },
  {
   "cell_type": "code",
   "execution_count": 62,
   "metadata": {},
   "outputs": [
    {
     "name": "stdout",
     "output_type": "stream",
     "text": [
      "Probability of atleast 2 persons suffer :  0.8753479805169189\n"
     ]
    }
   ],
   "source": [
    "# (ii) atleast 2 persons suffer.\n",
    "\n",
    "x = 2 #atleast 2 persons suffers\n",
    "l = 5 #the average number of people affected by corona virus in a day is 5.\n",
    "#cdf- cumulative distribution\n",
    "\n",
    "print(\"Probability of atleast 2 persons suffer : \", 1- stat.poisson.cdf(x,l))"
   ]
  },
  {
   "cell_type": "markdown",
   "metadata": {},
   "source": [
    "###  INFERENCE:   <font color='green'> Probability of atleast 2 people suffering with corona virus is 87%.</font>"
   ]
  },
  {
   "cell_type": "code",
   "execution_count": 63,
   "metadata": {},
   "outputs": [
    {
     "name": "stdout",
     "output_type": "stream",
     "text": [
      "Probability of atmost 2 persons suffer :  0.12465201948308108\n"
     ]
    }
   ],
   "source": [
    "# (iii) atmost 2 persons suffer.\n",
    "\n",
    "x = 2 #atmost 2 persons suffer\n",
    "l = 5 #the average number of people affected by corona virus in a day is 5.\n",
    "#cdf- cumulative distribution\n",
    "\n",
    "print(\"Probability of atmost 2 persons suffer : \", stat.poisson.cdf(x,l))"
   ]
  },
  {
   "cell_type": "markdown",
   "metadata": {},
   "source": [
    "###  INFERENCE:   <font color='green'> Probability of atmost 2 people suffering with corona virus is 12%.</font>"
   ]
  },
  {
   "cell_type": "code",
   "execution_count": 64,
   "metadata": {},
   "outputs": [
    {
     "name": "stdout",
     "output_type": "stream",
     "text": [
      "Probability of atmost 2 persons suffer :  0.49130863534998187\n"
     ]
    }
   ],
   "source": [
    "# (iv) between 2 and 5 persons suffer\n",
    "\n",
    "x = 2 #between 2 and 5 persons suffer\n",
    "y = 5\n",
    "l = 5 #the average number of people affected by corona virus in a day is 5.\n",
    "#cdf- cumulative distribution\n",
    "\n",
    "print(\"Probability of atmost 2 persons suffer : \", stat.poisson.cdf(y,l) - stat.poisson.cdf(x,l))"
   ]
  },
  {
   "cell_type": "markdown",
   "metadata": {},
   "source": [
    "###  INFERENCE:   <font color='green'> Probability of 2 to 5 people suffering with corona virus is 49%.</font>"
   ]
  },
  {
   "cell_type": "code",
   "execution_count": 65,
   "metadata": {},
   "outputs": [
    {
     "data": {
      "image/png": "[encoded data removed]",
      "text/plain": [
       "<Figure size 432x288 with 1 Axes>"
      ]
     },
     "metadata": {
      "needs_background": "light"
     },
     "output_type": "display_data"
    }
   ],
   "source": [
    "# v) Plot the distribution graph\n",
    "\n",
    "x = np.arange(1,6)\n",
    "l = 5 #the average number of people affected by corona virus in a day is 5. \n",
    "\n",
    "prob = stat.poisson.pmf(x,l)\n",
    "plt.title(\"Plot the distribution graph\")\n",
    "plt.xlabel(\"People affected by corona virus\")\n",
    "plt.plot(prob)\n",
    "plt.show()"
   ]
  },
  {
   "cell_type": "markdown",
   "metadata": {},
   "source": [
    "###  INFERENCE:   <font color='blue'> As the data of Corona affected people is taken over a period of time with event of occurance. So, we are using the poisson distribution to find the probablity.</font>"
   ]
  },
  {
   "cell_type": "markdown",
   "metadata": {},
   "source": [
    "<span style=\"font-family: Arial; font-weight:bold;font-size:1.2em;\">The piston pressure in a randomly selected bike is normally distributed with mean value of 28 psi and standard deviation of 0.7 psi. (3 marks)\n",
    "\n",
    "\n",
    "What is the probability that the pressure for a randomly selected piston:\n",
    "\n",
    "(a) between 25 and 29 psi \n",
    "\n",
    "(b) less than 30 psi\n",
    "\n",
    "(c) greater than 30.5 psi  "
   ]
  },
  {
   "cell_type": "code",
   "execution_count": 66,
   "metadata": {},
   "outputs": [
    {
     "name": "stdout",
     "output_type": "stream",
     "text": [
      "Probability that the pressure for a randomly selected piston between 25 and 29 psi : 0.9234271668415907\n"
     ]
    }
   ],
   "source": [
    "# (a) between 25 and 29 psi\n",
    "\n",
    "mean=28\n",
    "std=0.7\n",
    "z25=(25-28)/0.7\n",
    "z29=(29-28)/0.7\n",
    "\n",
    "print(\"Probability that the pressure for a randomly selected piston between 25 and 29 psi :\", stat.norm.cdf(z29)-stat.norm.cdf(z25))\n"
   ]
  },
  {
   "cell_type": "markdown",
   "metadata": {},
   "source": [
    "###  INFERENCE:  <font color='green'>Probability that the pressure for a randomly selected piston is between 25 and 29 psi is 92% .</font>"
   ]
  },
  {
   "cell_type": "code",
   "execution_count": 67,
   "metadata": {},
   "outputs": [
    {
     "name": "stdout",
     "output_type": "stream",
     "text": [
      "Probability that the pressure for a randomly selected piston less than 30 psi : 0.9978626330199137\n"
     ]
    }
   ],
   "source": [
    "# (b) less than 30 psi\n",
    "\n",
    "mean=28\n",
    "std=0.7\n",
    "z30=(30-mean)/std\n",
    "\n",
    "print(\"Probability that the pressure for a randomly selected piston less than 30 psi :\", stat.norm.cdf(z30))\n"
   ]
  },
  {
   "cell_type": "markdown",
   "metadata": {},
   "source": [
    "###  INFERENCE:  <font color='green'>Probability that the pressure for a randomly selected piston is less than 30 psi is 99% .</font>"
   ]
  },
  {
   "cell_type": "code",
   "execution_count": 68,
   "metadata": {},
   "outputs": [
    {
     "name": "stdout",
     "output_type": "stream",
     "text": [
      "Probability that the pressure for a randomly selected piston greater than 30.5 psi : 0.00017751969037349546\n"
     ]
    }
   ],
   "source": [
    "# (c) greater than 30.5 psi\n",
    "\n",
    "mean=28\n",
    "std=0.7\n",
    "z30_5=(30.5-mean)/std\n",
    "\n",
    "print(\"Probability that the pressure for a randomly selected piston greater than 30.5 psi :\", 1-stat.norm.cdf(z30_5))"
   ]
  },
  {
   "cell_type": "markdown",
   "metadata": {},
   "source": [
    "###  INFERENCE:  <font color='green'> Probability that the pressure for a randomly selected piston is greater than 30 psi is 0.017% (extremely low probability). </font>\n",
    "\n",
    "###  INFERENCE:  <font color='blue'>Since the normal distribution is a continuous distribution, the area under the curve (cumulative distribution) represents the probabilities. Mean gives us average and standard Deviation tells us how “spread out” the data is. It is a measure of how far each observed value is from the mean."
   ]
  },
  {
   "cell_type": "markdown",
   "metadata": {},
   "source": [
    "<span style=\"font-family: Arial; font-weight:bold;font-size:1.2em;\">A sample of 400 bulbs is manufactued found to have a mean lifetime is 171.38 hrs. Can it\n",
    "reasonably be regarded as a large population with mean  more than 173 hrs\n",
    "and standard deviation of 3.3 hrs so that company can make profit(Test at 5% significance level).Will company make profit? Assume data is normally distributed. (2 marks)"
   ]
  },
  {
   "cell_type": "code",
   "execution_count": 69,
   "metadata": {},
   "outputs": [
    {
     "name": "stdout",
     "output_type": "stream",
     "text": [
      "mean=173.00 stdv=0.17\n",
      "ztest_Score :  0.27557521908710264\n",
      "Fail to Reject NUll Hypothesis as p value is 0.39143717260531036 \n",
      "Therefore, population_mean = 173 hrs\n"
     ]
    }
   ],
   "source": [
    "H0 = \"population_mean = 173 hrs\"\n",
    "H1 = \"population_mean >= 173 hrs\"\n",
    "\n",
    "sample = 400\n",
    "sample_mean = 171.38\n",
    "\n",
    "# as sample is more than 30, this is called to be large sample test\n",
    "# therefore we can use z-test\n",
    "\n",
    "population_mean = 173\n",
    "population_sd = 3.3/math.sqrt(400)\n",
    "# Generate a random array of 400 sample having mean 171.38 and sd 3.3\n",
    "data = population_sd*np.random.randn(400) + population_mean\n",
    "\n",
    "# print mean and sd\n",
    "print('mean=%.2f stdv=%.2f' % (np.mean(data), np.std(data)))\n",
    "\n",
    "# Test at 5% significance level \n",
    "alpha = 0.05\n",
    "\n",
    "ztest_Score, p_value= test.ztest(data,value = population_mean, alternative='larger')\n",
    "print(\"ztest_Score : \", ztest_Score)\n",
    "\n",
    "# the function outputs a p_value and z-score corresponding to that value, we compare the \n",
    "# p-value with alpha, if it is greater than alpha then we do not null hypothesis \n",
    "# else we reject it.\n",
    "  \n",
    "if(p_value <  alpha):\n",
    "  print(\"Reject Null Hypothesis as p value is \", p_value, \"\\nTherefore,\", H1)\n",
    "else:\n",
    "  print(\"Fail to Reject NUll Hypothesis as p value is\", p_value, \"\\nTherefore,\", H0)\n"
   ]
  },
  {
   "cell_type": "markdown",
   "metadata": {},
   "source": [
    "<span style=\"font-family: Arial; font-weight:bold;font-size:1.2em;\">The data of weight loss program is given below.Find whether gender has any effect in weight loss. (2 marks)\n",
    "\n",
    "\n",
    "\n",
    "\n",
    "Weight_loss_Male   = [ 3.69, 4.12, 4.65, 3.19,  4.34, 3.68, 4.12, 4.50, 3.70, 3.09,3.65, 4.73, 3.93, 3.46, 3.28, 4.43, 4.13, 3.62, 3.71, 2.92]\n",
    "\n",
    "Weight_loss_Female = [2.99, 1.80, 3.79, 4.12, 1.76, 3.50, 3.61, 2.32, 3.67, 4.26, 4.57, 3.01, 3.82, 4.33, 3.40, 3.86]\n",
    "\n",
    "Calculate the test statistic and p value manually and compare with the inbuilt function.\n",
    "    \n",
    "**Note: Assume data is normally distributed**"
   ]
  },
  {
   "cell_type": "code",
   "execution_count": 70,
   "metadata": {},
   "outputs": [],
   "source": [
    "male = [ 3.69, 4.12, 4.65, 3.19, 4.34, 3.68, 4.12, 4.50, 3.70, 3.09,\n",
    "                    3.65, 4.73, 3.93, 3.46, 3.28, 4.43, 4.13, 3.62, 3.71, 2.92]\n",
    "female = [2.99, 1.80, 3.79, 4.12, 1.76, 3.50, 3.61, 2.32, 3.67, 4.26, \n",
    "                      4.57, 3.01, 3.82, 4.33, 3.40, 3.86]"
   ]
  },
  {
   "cell_type": "code",
   "execution_count": 71,
   "metadata": {},
   "outputs": [
    {
     "name": "stdout",
     "output_type": "stream",
     "text": [
      "0.25942100000000007 0.680287109375\n",
      "Ratio between variance :  2.6223286063001834\n",
      "Fail to Reject NUll Hypothesis as p value is 0.0764604205335295 \n",
      "Therefore, gender has no effect in weight loss (population_mean of weight_loss_male = population_mean of weight_loss_female)\n"
     ]
    }
   ],
   "source": [
    "# as samples of male and female are below 30, we are going with small sample test\n",
    "\n",
    "H0 = \"gender has no effect in weight loss (population_mean of weight_loss_male = population_mean of weight_loss_female)\" \n",
    "H1 = \"gender has any effect in weight loss (population_mean of weight_loss_male != population_mean of weight_loss_female)\" \n",
    "\n",
    "male_arr = np.array(male)\n",
    "female_arr = np.array(female)\n",
    "\n",
    "# Print the variance of both data groups\n",
    "print(np.var(male_arr), np.var(female_arr))\n",
    "print(\"Ratio between variance : \", np.var(female_arr)/np.var(male_arr))\n",
    "\n",
    "# Here, the ratio is less than 4:1\n",
    "\n",
    "# therfore, Performing Two-Sample T-Test\n",
    "\n",
    "statistics_value, p_value = stat.ttest_ind(male_arr,female_arr)\n",
    "\n",
    "# lets take the los as 5%\n",
    "alpha = 0.05\n",
    "\n",
    "if(p_value <  alpha):\n",
    "  print(\"Reject Null Hypothesis as p value is \", p_value,\"\\nTherefore,\", H1)\n",
    "else:\n",
    "  print(\"Fail to Reject NUll Hypothesis as p value is\", p_value,\"\\nTherefore,\", H0)\n"
   ]
  },
  {
   "cell_type": "markdown",
   "metadata": {},
   "source": [
    "<span style=\"font-family: Arial; font-weight:bold;font-size:1.2em;\"> The data of weight gain program is given below.Find whether the program is effective. (2 marks)\n",
    "    \n",
    "\n",
    "Weight_before =[52, 56, 61, 47, 58, 52, 56, 60, 52, 46, 51, 62, 54, 50, 48, 59, 56, 51, 52, 44, 52, 45, 57, 60, 45]\n",
    "\n",
    "Weight_after  =[62, 64, 40, 65, 76, 82, 53, 68, 77, 60, 69, 34, 69, 73, 67, 82, 62, 49, 44, 43, 77, 61, 67, 67, 54]\n",
    "\n",
    "**Note: Assume data is normally distributed and have equal variance.**"
   ]
  },
  {
   "cell_type": "code",
   "execution_count": 72,
   "metadata": {},
   "outputs": [],
   "source": [
    "Weight_before =[52, 56, 61, 47, 58, 52, 56, 60, 52, 46, 51, 62, 54, 50, \n",
    "                48, 59, 56, 51, 52, 44, 52, 45, 57, 60, 45]\n",
    "\n",
    "Weight_after  =[62, 64, 40, 65, 76, 82, 53, 68, 77, 60, 69, 34, 69, 73, \n",
    "                67, 82, 62, 49, 44, 43, 77, 61, 67, 67, 54]\n"
   ]
  },
  {
   "cell_type": "code",
   "execution_count": 73,
   "metadata": {},
   "outputs": [
    {
     "name": "stdout",
     "output_type": "stream",
     "text": [
      "27.558400000000002 162.08\n",
      "Ratio between variance :  5.881328379006038\n",
      "Reject Null Hypothesis as p value is  0.0018213716687280747 \n",
      "Therefore, program is effective (population_mean of weight_before != population_mean of weight_after)\n"
     ]
    }
   ],
   "source": [
    "# as samples of weight_before and weight_after are below 30, we are going with small sample test\n",
    "\n",
    "H0 = \"program is not effective (population_mean of weight_before = population_mean of weight_after)\"\n",
    "H1 = \"program is effective (population_mean of weight_before != population_mean of weight_after)\"\n",
    "\n",
    "weight_before_arr = np.array(Weight_before)\n",
    "weight_after_arr = np.array(Weight_after)\n",
    "\n",
    "# Print the variance of both data groups\n",
    "print(np.var(weight_before_arr), np.var(weight_after_arr))\n",
    "print(\"Ratio between variance : \", np.var(weight_after_arr)/np.var(weight_before_arr))\n",
    "\n",
    "# Here, the ratio is more than 4:1\n",
    "\n",
    "# Conducting Welch's t-Test by making equal_var = False\n",
    "\n",
    "statistics_value, p_value = stat.ttest_ind(weight_before_arr,weight_after_arr,equal_var=False)\n",
    "\n",
    "# lets take the los as 5%\n",
    "alpha = 0.05\n",
    "\n",
    "if(p_value <  alpha):\n",
    "  print(\"Reject Null Hypothesis as p value is \", p_value,\"\\nTherefore,\", H1)\n",
    "else:\n",
    "  print(\"Fail to Reject NUll Hypothesis as p value is\", p_value,\"\\nTherefore,\", H0)\n"
   ]
  },
  {
   "cell_type": "markdown",
   "metadata": {},
   "source": [
    "# Parkinson Data Statistical Analysis"
   ]
  },
  {
   "cell_type": "markdown",
   "metadata": {},
   "source": [
    "**Attribute Information:**\n",
    "\n",
    "Matrix column entries (attributes):\n",
    "\n",
    "name - ASCII subject name and recording number\n",
    "\n",
    "MDVP:Fo(Hz) - Average vocal fundamental frequency\n",
    "\n",
    "MDVP:Fhi(Hz) - Maximum vocal fundamental frequency\n",
    "\n",
    "MDVP:Flo(Hz) - Minimum vocal fundamental frequency\n",
    "\n",
    "MDVP:Jitter(%),MDVP:Jitter(Abs),MDVP:RAP,MDVP:PPQ,Jitter:DDP - Several measures of variation in fundamental frequency\n",
    "\n",
    "MDVP:Shimmer,MDVP:Shimmer(dB),Shimmer:APQ3,Shimmer:APQ5,MDVP:APQ,Shimmer:DDA - Several measures of variation in amplitude\n",
    "\n",
    "NHR,HNR - Two measures of ratio of noise to tonal components in the voice\n",
    "\n",
    "status - Health status of the subject (one) - Parkinson's, (zero) - healthy\n",
    "\n",
    "RPDE,D2 - Two nonlinear dynamical complexity measures\n",
    "\n",
    "DFA - Signal fractal scaling exponent\n",
    "\n",
    "spread1,spread2,PPE - Three nonlinear measures of fundamental frequency variation"
   ]
  },
  {
   "cell_type": "markdown",
   "metadata": {},
   "source": [
    "#### Reading file"
   ]
  },
  {
   "cell_type": "code",
   "execution_count": 74,
   "metadata": {},
   "outputs": [
    {
     "data": {
      "text/plain": [
       "(195, 24)"
      ]
     },
     "execution_count": 74,
     "metadata": {},
     "output_type": "execute_result"
    }
   ],
   "source": [
    "data=pd.read_csv('parkinson.csv')\n",
    "data.shape"
   ]
  },
  {
   "cell_type": "code",
   "execution_count": 75,
   "metadata": {},
   "outputs": [],
   "source": [
    "from sklearn.model_selection import train_test_split"
   ]
  },
  {
   "cell_type": "code",
   "execution_count": 76,
   "metadata": {},
   "outputs": [],
   "source": [
    "# Input is all the columns except 'Name' and 'Status'\n",
    "inp=data.drop(columns=['name','status'])"
   ]
  },
  {
   "cell_type": "code",
   "execution_count": 77,
   "metadata": {},
   "outputs": [],
   "source": [
    "# Output is to predict the 'Status' value\n",
    "out=data['status']"
   ]
  },
  {
   "cell_type": "code",
   "execution_count": 78,
   "metadata": {},
   "outputs": [],
   "source": [
    "xtrain,xtest,ytrain,ytest=train_test_split(inp,out,test_size=0.3,random_state=40) "
   ]
  },
  {
   "cell_type": "code",
   "execution_count": 79,
   "metadata": {},
   "outputs": [],
   "source": [
    "from sklearn import linear_model\n",
    "from sklearn.metrics import accuracy_score"
   ]
  },
  {
   "cell_type": "markdown",
   "metadata": {},
   "source": [
    "###  INFERENCE:  <font color='blue'> Here, Logistic regression is used to predict categorical outcomes, unlike linear regression that predicts a continuous outcome. In the above case there are only two outcomes, Status value equal to '0' or '1'(binomial) hence above ML model can be considered as binomial logistic regression. </font> <br><font color='green'> Accuracy_score  is used to calculate the accuracy of either the fraction or count of correct prediction. It is used to measure accuracy level of test_value to predicted_value.</font>"
   ]
  },
  {
   "cell_type": "markdown",
   "metadata": {},
   "source": [
    "# Statistical Tests (6 marks)"
   ]
  },
  {
   "cell_type": "markdown",
   "metadata": {},
   "source": [
    "###  Find  whether MDVP:Fhi(Hz)  is helpful in predicting Status? (2 maks)"
   ]
  },
  {
   "cell_type": "code",
   "execution_count": 80,
   "metadata": {},
   "outputs": [],
   "source": [
    "logr1 = linear_model.LogisticRegression()"
   ]
  },
  {
   "cell_type": "code",
   "execution_count": 81,
   "metadata": {},
   "outputs": [
    {
     "data": {
      "text/plain": [
       "LogisticRegression()"
      ]
     },
     "execution_count": 81,
     "metadata": {},
     "output_type": "execute_result"
    }
   ],
   "source": [
    "logr1.fit(xtrain['MDVP:Fhi(Hz)'].to_numpy().reshape(-1,1), ytrain)"
   ]
  },
  {
   "cell_type": "code",
   "execution_count": 82,
   "metadata": {},
   "outputs": [],
   "source": [
    "predict = logr1.predict(xtest['MDVP:Fhi(Hz)'].to_numpy().reshape(-1,1))"
   ]
  },
  {
   "cell_type": "code",
   "execution_count": 83,
   "metadata": {},
   "outputs": [
    {
     "data": {
      "text/plain": [
       "0.7966101694915254"
      ]
     },
     "execution_count": 83,
     "metadata": {},
     "output_type": "execute_result"
    }
   ],
   "source": [
    "accuracy_score(ytest, predict)"
   ]
  },
  {
   "cell_type": "markdown",
   "metadata": {},
   "source": [
    "###  INFERENCE:  <font color='blue'> From the result, we can see that above model as predicted 'Status' using 'MDVP:Fhi(Hz)' feature with 79% accuracy.  </font>"
   ]
  },
  {
   "cell_type": "markdown",
   "metadata": {},
   "source": [
    "###  Find  whether NHR is helpful in predicting Status? (2 marks)"
   ]
  },
  {
   "cell_type": "code",
   "execution_count": 84,
   "metadata": {},
   "outputs": [],
   "source": [
    "logr2 = linear_model.LogisticRegression()"
   ]
  },
  {
   "cell_type": "code",
   "execution_count": 85,
   "metadata": {},
   "outputs": [
    {
     "data": {
      "text/plain": [
       "LogisticRegression()"
      ]
     },
     "execution_count": 85,
     "metadata": {},
     "output_type": "execute_result"
    }
   ],
   "source": [
    "logr2.fit(xtrain['NHR'].to_numpy().reshape(-1,1), ytrain)"
   ]
  },
  {
   "cell_type": "code",
   "execution_count": 86,
   "metadata": {},
   "outputs": [],
   "source": [
    "predict = logr2.predict(xtest['NHR'].to_numpy().reshape(-1,1))"
   ]
  },
  {
   "cell_type": "code",
   "execution_count": 87,
   "metadata": {},
   "outputs": [
    {
     "data": {
      "text/plain": [
       "0.7796610169491526"
      ]
     },
     "execution_count": 87,
     "metadata": {},
     "output_type": "execute_result"
    }
   ],
   "source": [
    "accuracy_score(ytest, predict)"
   ]
  },
  {
   "cell_type": "markdown",
   "metadata": {},
   "source": [
    "###  INFERENCE:  </font> <font color='blue'> From the above result, we can say that the model as predicted 'Status' using 'NHR' feature with 77% accuracy.  </font>"
   ]
  },
  {
   "cell_type": "markdown",
   "metadata": {},
   "source": [
    "###  Find  whether spread2 is helpful in predicting Status? (2 marks)"
   ]
  },
  {
   "cell_type": "code",
   "execution_count": 88,
   "metadata": {},
   "outputs": [],
   "source": [
    "logr3 = linear_model.LogisticRegression()"
   ]
  },
  {
   "cell_type": "code",
   "execution_count": 89,
   "metadata": {},
   "outputs": [
    {
     "data": {
      "text/plain": [
       "LogisticRegression()"
      ]
     },
     "execution_count": 89,
     "metadata": {},
     "output_type": "execute_result"
    }
   ],
   "source": [
    "logr3.fit(xtrain['spread2'].to_numpy().reshape(-1,1), ytrain)"
   ]
  },
  {
   "cell_type": "code",
   "execution_count": 90,
   "metadata": {},
   "outputs": [],
   "source": [
    "predict = logr3.predict(xtest['spread2'].to_numpy().reshape(-1,1))"
   ]
  },
  {
   "cell_type": "code",
   "execution_count": 91,
   "metadata": {},
   "outputs": [
    {
     "data": {
      "text/plain": [
       "0.7796610169491526"
      ]
     },
     "execution_count": 91,
     "metadata": {},
     "output_type": "execute_result"
    }
   ],
   "source": [
    "accuracy_score(ytest, predict)"
   ]
  },
  {
   "cell_type": "markdown",
   "metadata": {},
   "source": [
    "###  INFERENCE:  </font> <font color='blue'> From the above result, we can say that the model as predicted 'Status' using 'spread2' feature with 78% accuracy.  </font>"
   ]
  },
  {
   "cell_type": "markdown",
   "metadata": {},
   "source": [
    "# Wine Quality analysis (Optional)"
   ]
  },
  {
   "cell_type": "markdown",
   "metadata": {},
   "source": [
    "### Dataset and Info"
   ]
  },
  {
   "cell_type": "markdown",
   "metadata": {},
   "source": [
    "Data Set Information:\n",
    "\n",
    "These data are the results of a chemical analysis of wines grown in the same region in Italy but derived from three different cultivars. The analysis determined the quantities of 13 constituents found in each of the three types of wines.\n",
    "\n",
    "I think that the initial data set had around 30 variables, but for some reason I only have the 13 dimensional version. I had a list of what the 30 or so variables were, but a.) I lost it, and b.), I would not know which 13 variables are included in the set.\n",
    "\n",
    "The attributes are (dontated by Riccardo Leardi, riclea '@' anchem.unige.it )\n",
    "\n",
    "1) Alcohol\n",
    "\n",
    "2) Malic acid\n",
    "\n",
    "3) Ash\n",
    "\n",
    "4) Alcalinity of ash\n",
    "\n",
    "5) Magnesium\n",
    "\n",
    "6) Total phenols\n",
    "\n",
    "7) Flavanoids\n",
    "\n",
    "8) Nonflavanoid phenols\n",
    "\n",
    "9) Proanthocyanins\n",
    "\n",
    "10)Color intensity\n",
    "\n",
    "11)Hue\n",
    "\n",
    "12)OD280/OD315 of diluted wines\n",
    "\n",
    "13)Proline\n",
    "\n",
    "14) Cultivator\n"
   ]
  },
  {
   "cell_type": "code",
   "execution_count": 92,
   "metadata": {},
   "outputs": [],
   "source": [
    "data=pd.read_csv(\"wine.xls\"\n",
    "                ,names= [\"Cultivator\", \"Alchol\", \"Malic_Acid\", \"Ash\", \"Alcalinity_of_Ash\", \n",
    "             \"Magnesium\", \"Total_phenols\", \"Falvanoids\", \"Nonflavanoid_phenols\", \n",
    "             \"Proanthocyanins\", \"Color_intensity\", \"Hue\", \"OD280\", \"Proline\"])"
   ]
  },
  {
   "cell_type": "code",
   "execution_count": 93,
   "metadata": {},
   "outputs": [
    {
     "data": {
      "text/plain": [
       "2    71\n",
       "1    59\n",
       "3    48\n",
       "Name: Cultivator, dtype: int64"
      ]
     },
     "execution_count": 93,
     "metadata": {},
     "output_type": "execute_result"
    }
   ],
   "source": [
    "data[\"Cultivator\"].value_counts()"
   ]
  },
  {
   "cell_type": "markdown",
   "metadata": {},
   "source": [
    "# Stastistical Test  (Optional)"
   ]
  },
  {
   "cell_type": "markdown",
   "metadata": {},
   "source": [
    "### Finding whether Nonflavanoid_phenols is helpful in predicting Cultivator?"
   ]
  },
  {
   "cell_type": "code",
   "execution_count": null,
   "metadata": {},
   "outputs": [],
   "source": []
  },
  {
   "cell_type": "markdown",
   "metadata": {},
   "source": [
    "### Finding whether Alcalinity_of_Ash is helpful in predicting Cultivator?"
   ]
  },
  {
   "cell_type": "code",
   "execution_count": null,
   "metadata": {},
   "outputs": [],
   "source": []
  },
  {
   "cell_type": "markdown",
   "metadata": {},
   "source": [
    "### Finding whether there is relation between Malic_acid and Ash?"
   ]
  },
  {
   "cell_type": "code",
   "execution_count": null,
   "metadata": {},
   "outputs": [],
   "source": []
  },
  {
   "cell_type": "markdown",
   "metadata": {},
   "source": [
    "# Covid Dataset Analysis (optional)"
   ]
  },
  {
   "cell_type": "markdown",
   "metadata": {},
   "source": [
    "Two pharma companies have created the antidote of Corona virus. One Drug (denoted by Old Drug) was created and Finished applying by August. The drug didn’t show the result as it was expected. So the New Drug was created and applied. Both the drugs were applied on a set of 200000 people.10000 patients were selected to see if there is any significant effect or which one works better. The patients were divided into 5000 groups (denoted as  Patient_id ). Each group has patient with similar health condition. Old Drug was applied on first 5000 patients and New Drug was applied on second 5000 patients. The effect of the both the drugs were recorded group wise."
   ]
  },
  {
   "cell_type": "code",
   "execution_count": null,
   "metadata": {},
   "outputs": [],
   "source": []
  },
  {
   "cell_type": "markdown",
   "metadata": {},
   "source": [
    "# Statistical analysis"
   ]
  },
  {
   "cell_type": "markdown",
   "metadata": {},
   "source": [
    "### 1.\tNormal Oxygen Level ( denoted as Oxy_level ) The average Oxygen level should be 99 .\n"
   ]
  },
  {
   "cell_type": "code",
   "execution_count": null,
   "metadata": {},
   "outputs": [],
   "source": []
  },
  {
   "cell_type": "markdown",
   "metadata": {},
   "source": [
    "### 2.Average Pulse rate ( denoted as Pulse_rate ) of the patient should not be more than 100 .\n"
   ]
  },
  {
   "cell_type": "code",
   "execution_count": null,
   "metadata": {},
   "outputs": [],
   "source": []
  },
  {
   "cell_type": "markdown",
   "metadata": {},
   "source": [
    "### 3.\tValidate the claim that there is no gender discrimination while selecting the sample\n",
    "\n"
   ]
  },
  {
   "cell_type": "code",
   "execution_count": null,
   "metadata": {},
   "outputs": [],
   "source": []
  },
  {
   "cell_type": "markdown",
   "metadata": {},
   "source": [
    "### 4.\tValidate that there was no discrimination based on age group and gender while selecting the patient or in other words the patients were selected randomly.\n",
    "\n",
    "Age group is described as  , \n",
    "\n",
    "\n",
    "Age<12 - A\n",
    "\n",
    "12<Age≤ 25-B\n",
    "\n",
    "25<Age≤40-C\n",
    "\n",
    "40<Age≤58-D\n",
    "\n",
    "58<Age-E\n",
    "\n"
   ]
  },
  {
   "cell_type": "code",
   "execution_count": null,
   "metadata": {},
   "outputs": [],
   "source": []
  }
 ],
 "metadata": {
  "kernelspec": {
   "display_name": "Python 3 (ipykernel)",
   "language": "python",
   "name": "python3"
  },
  "language_info": {
   "codemirror_mode": {
    "name": "ipython",
    "version": 3
   },
   "file_extension": ".py",
   "mimetype": "text/x-python",
   "name": "python",
   "nbconvert_exporter": "python",
   "pygments_lexer": "ipython3",
   "version": "3.9.7"
  }
 },
 "nbformat": 4,
 "nbformat_minor": 2
}
