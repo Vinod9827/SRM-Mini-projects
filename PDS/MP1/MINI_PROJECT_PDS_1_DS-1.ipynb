{
 "cells": [
  {
   "cell_type": "markdown",
   "metadata": {
    "id": "H-T3rXcWRbF7"
   },
   "source": [
    "<table align=\"center\" width=100%>\n",
    "    <tr>\n",
    "       <td>\n",
    "            <div align=\"center\">\n",
    "                <font color=\"#21618C\" size=8px>\n",
    "                    <b> MINI PROJECT 1<br>\n",
    "                    </b>\n",
    "                </font>\n",
    "            </div>\n",
    "        </td>\n",
    "        <td width=\"25%\">\n",
    "            <img src=\"Great_Learning_Logo.jpg\">\n",
    "        </td>\n",
    "    </tr>\n",
    "</table>"
   ]
  },
  {
   "cell_type": "markdown",
   "metadata": {},
   "source": [
    "## Group Members Name\n",
    "\n",
    "### 1. Dinesh Subramanian\n",
    "\n",
    "### 2. S.Aishwarya\n",
    "\n",
    "### 3. Vinod A"
   ]
  },
  {
   "cell_type": "markdown",
   "metadata": {
    "id": "2SWXoFHjRbGE"
   },
   "source": [
    "## Write your own logical script to solve the given problems (20 Marks)"
   ]
  },
  {
   "cell_type": "markdown",
   "metadata": {
    "id": "PtuTRJHvRbGF"
   },
   "source": [
    "### 1. Write a program to transpose a matrix using List Comprehension and without using List Comprehension    (4 marks)"
   ]
  },
  {
   "cell_type": "markdown",
   "metadata": {
    "id": "PDQvp6NvRbGG"
   },
   "source": [
    "<b> matrix= [[1,2,3],[3,4,5],[5,6,8],[7,8,9]] </b><br>"
   ]
  },
  {
   "cell_type": "code",
   "execution_count": 1,
   "metadata": {
    "id": "60NuhxtURbGH"
   },
   "outputs": [
    {
     "data": {
      "text/plain": [
       "[[1, 3, 5, 7], [2, 4, 6, 8], [3, 5, 8, 9]]"
      ]
     },
     "execution_count": 1,
     "metadata": {},
     "output_type": "execute_result"
    }
   ],
   "source": [
    "# type your code here \"Using LIST Comprehension\"\n",
    "matrix= [[1,2,3],[3,4,5],[5,6,8],[7,8,9]]\n",
    "\n",
    "#implementation of Matrix Transpose using List Comprehension\n",
    "matrix_transpose = [[matrix[j][i] for j in range(len(matrix))] for i in range(len(matrix[0]))]\n",
    "matrix_transpose"
   ]
  },
  {
   "cell_type": "code",
   "execution_count": 2,
   "metadata": {},
   "outputs": [
    {
     "data": {
      "text/plain": [
       "[[1, 3, 5, 7], [2, 4, 6, 8], [3, 5, 8, 9]]"
      ]
     },
     "execution_count": 2,
     "metadata": {},
     "output_type": "execute_result"
    }
   ],
   "source": [
    "# type your code here \"without Using LIST Comprehension\"\n",
    "matrix= [[1,2,3],[3,4,5],[5,6,8],[7,8,9]]\n",
    "m,n = len(matrix),len(matrix[0])\n",
    "\n",
    "# creating a dummy matrix for transpose\n",
    "matrix_transpose = []\n",
    "\n",
    "for i in range(n):\n",
    "    second_dim_list = []\n",
    "    for j in range(m):\n",
    "        second_dim_list.append(matrix[j][i])\n",
    "    matrix_transpose.append(second_dim_list)\n",
    "    \n",
    "matrix_transpose\n",
    "        "
   ]
  },
  {
   "cell_type": "markdown",
   "metadata": {},
   "source": [
    "### 2. Create a dictionary containing four lambda functions square, cube, squareroot, multiply by 3 (8 marks)\n",
    "\n",
    "**E.g. dict = {'Square': function for squaring, 'Cube': function for cube, 'Squareroot': function for squareroot, 'Double': function for double} and so on**\n",
    "\n",
    "**Pass the values (input from the user) to the functions in the dictionary respectively. Then add the outputs of each function and print it.**"
   ]
  },
  {
   "cell_type": "code",
   "execution_count": 3,
   "metadata": {
    "id": "Pxj1Oh5rRbGL"
   },
   "outputs": [
    {
     "name": "stdout",
     "output_type": "stream",
     "text": [
      "3\n",
      "Sum of output from Dictionary :  43.73205080756888\n"
     ]
    }
   ],
   "source": [
    "# type your code here\n",
    "import math\n",
    "# decalring a dictionary\n",
    "dict_containing_lambda = { \"Square\" : lambda a : a**a ,\n",
    "                          \"Cube\" : lambda a : a^3 ,\n",
    "                          \"Squareroot\" : lambda a : math.sqrt(a),\n",
    "                          \"Double\" : lambda a : a*2,\n",
    "                          \"MuliplyBy3\": lambda a : a*3\n",
    "                         }\n",
    "value_input = int(input())\n",
    "# getting the results from each function using LIST compehension\n",
    "sum_Value = [dict_containing_lambda[dict_keys](value_input) for dict_keys in dict_containing_lambda.keys()]\n",
    "\n",
    "print(\"Sum of output from Dictionary : \",sum(sum_Value))\n"
   ]
  },
  {
   "cell_type": "markdown",
   "metadata": {},
   "source": [
    "###  3. A list of words is given. Define a function to find the words from the list that have their second character in uppercase (4 marks)"
   ]
  },
  {
   "cell_type": "markdown",
   "metadata": {
    "id": "JoEJ3RCbRbGN"
   },
   "source": [
    "<b>list1 = ['swiggy', 'Zomato', 'aMazon', 'TATa Cliq', 'uBer', 'JioMart','BIG BASKET' ]</b><br>"
   ]
  },
  {
   "cell_type": "code",
   "execution_count": 4,
   "metadata": {
    "id": "u2mSIYH4RbGO"
   },
   "outputs": [
    {
     "name": "stdout",
     "output_type": "stream",
     "text": [
      "The Second Character of the word swiggy  is not uppercase\n",
      "The Second Character of the word Zomato  is not uppercase\n",
      "The Second Character of the word aMazon  is uppercase\n",
      "The Second Character of the word TATa Cliq  is uppercase\n",
      "The Second Character of the word uBer  is uppercase\n",
      "The Second Character of the word JioMart  is not uppercase\n",
      "The Second Character of the word BIG BASKET  is uppercase\n"
     ]
    }
   ],
   "source": [
    "# type your code here\n",
    "list1 = ['swiggy', 'Zomato', 'aMazon', 'TATa Cliq', 'uBer', 'JioMart','BIG BASKET' ]\n",
    "\n",
    "def to_find_2ndChar_in_uppercase(word):\n",
    "    if (word[1].isupper()):\n",
    "        print(\"The Second Character of the word\",word,\" is uppercase\")\n",
    "    else:\n",
    "        print(\"The Second Character of the word\",word,\" is not uppercase\")\n",
    "\n",
    "for i in list1:\n",
    "    to_find_2ndChar_in_uppercase(i)"
   ]
  },
  {
   "cell_type": "markdown",
   "metadata": {},
   "source": [
    " ### 4. Define a function to filter the marks from the tuple \"tmarks\" that are greater than 40 and print corresponding names from the \"tnames\" tuple (2 marks)"
   ]
  },
  {
   "cell_type": "markdown",
   "metadata": {
    "id": "bxm4wgFjRbGQ"
   },
   "source": [
    "<b>tnames = ('John','Sharon','Jack','Annie', 'Antony', 'Thomson', 'Rijo')</b><br>\n",
    "<b>tmarks = (32,50,75,12,40,23,37)</b>"
   ]
  },
  {
   "cell_type": "code",
   "execution_count": 2,
   "metadata": {
    "id": "d6fEuvKMRbGQ"
   },
   "outputs": [
    {
     "name": "stdout",
     "output_type": "stream",
     "text": [
      "Sharon\n",
      "Jack\n"
     ]
    }
   ],
   "source": [
    "# type your code here\n",
    "tnames = ('John','Sharon','Jack','Annie', 'Antony', 'Thomson', 'Rijo')\n",
    "tmarks = (32,50,75,12,40,23,37)\n",
    "\n",
    "def to_filter_names_above_40marks(tmarks,tnames):\n",
    "    for i in range(len(tmarks)):\n",
    "        if tmarks[i] > 40:\n",
    "            print(tnames[i])\n",
    "            \n",
    "to_filter_names_above_40marks(tmarks,tnames)"
   ]
  },
  {
   "cell_type": "markdown",
   "metadata": {},
   "source": [
    "### 5.A A list containing multiple lists is given. Convert each inner list into sets and find intersection of all the sets (use reduce function) (2 marks)"
   ]
  },
  {
   "cell_type": "markdown",
   "metadata": {
    "id": "RaAgVCDwRbGS"
   },
   "source": [
    "given_sets = [[1, 2, 3, 4, 8], [2, 3, 8, 5, 6], [8, 4, 5, 3, 7], [6, 9, 8, 3], [9, 12, 3, 7, 6, 8, 4, 6, 21, 1, 6]]"
   ]
  },
  {
   "cell_type": "code",
   "execution_count": 6,
   "metadata": {
    "id": "It65f3IBRbGS"
   },
   "outputs": [
    {
     "name": "stdout",
     "output_type": "stream",
     "text": [
      "{8, 3}\n"
     ]
    }
   ],
   "source": [
    "# type your code here\n",
    "import functools\n",
    "\n",
    "given_sets = [[1, 2, 3, 4, 8], [2, 3, 8, 5, 6], [8, 4, 5, 3, 7], [6, 9, 8, 3], [9, 12, 3, 7, 6, 8, 4, 6, 21, 1, 6]]\n",
    "\n",
    "# converting the inner list to sets\n",
    "list_with_sets = [set(i) for i in given_sets]\n",
    "\n",
    "# using reduce funtion to check for intersection between the sets\n",
    "print(\"Intersection of all the sets\", functools.reduce(lambda a,b : a.intersection(b) , list_with_sets))\n"
   ]
  },
  {
   "cell_type": "code",
   "execution_count": null,
   "metadata": {},
   "outputs": [],
   "source": []
  }
 ],
 "metadata": {
  "colab": {
   "name": "ITP-Day 4_TH Exercise.ipynb",
   "provenance": []
  },
  "kernelspec": {
   "display_name": "Python 3 (ipykernel)",
   "language": "python",
   "name": "python3"
  },
  "language_info": {
   "codemirror_mode": {
    "name": "ipython",
    "version": 3
   },
   "file_extension": ".py",
   "mimetype": "text/x-python",
   "name": "python",
   "nbconvert_exporter": "python",
   "pygments_lexer": "ipython3",
   "version": "3.9.7"
  }
 },
 "nbformat": 4,
 "nbformat_minor": 1
}
